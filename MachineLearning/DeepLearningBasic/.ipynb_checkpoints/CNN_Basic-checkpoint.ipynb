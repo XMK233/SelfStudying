{
 "cells": [
  {
   "cell_type": "markdown",
   "metadata": {},
   "source": [
    "# change and save images"
   ]
  },
  {
   "cell_type": "markdown",
   "metadata": {},
   "source": [
    "most important: \n",
    "* cv2.imread(..., cv.IMREAD_GRAYSCALE)"
   ]
  },
  {
   "cell_type": "code",
   "execution_count": 15,
   "metadata": {},
   "outputs": [
    {
     "name": "stdout",
     "output_type": "stream",
     "text": [
      "[[255 255 255 255 255 255 255 255 255 255 255 255 255 255 255 255 255 255\n",
      "  255 255 255 255 255 255 255 255 255 255 255 255 255 255 255 255 255 255\n",
      "  255 255 255 255 255 255 255 255 255 255 255 255 255 255 255 255 255 255\n",
      "  255 255 255 255 255 255 255 255 255 255 255 255 255 255 255 255 255 255\n",
      "  255 255 255 255 255 255 255 255 255 255 255 255 255 255 255 255 255 255\n",
      "  255 255 255 255 255 255 255 255 255 255 255 255 255 255 255 255 255 255\n",
      "  255 255 255 255 255 255 255 255 255 255 255 255 255 255 255 255 255 255\n",
      "  255 255 255 255 255 255 255 255 255 255 255 255 255 255 255 255 255 255\n",
      "  255 255 255 255 255 255 255 255 255 255 255 255 255 255 255 255 255 255\n",
      "  255 255 255 255 255 255 255 255 255 255 255 255 255 255 255 255 255 255\n",
      "  255 255 255 255 255 255 255 255 255 255 255 255 255 255 255 255 255 255\n",
      "  255 255 255 255 255 255 255 255 255 255 255 255 255 255 255 255 255 255\n",
      "  255 255 255 255 255 255 255 255 255 255 255 255 255 255 255 255 255 255\n",
      "  255 255 255 255 255 255 255 255 255 255 255 255 255 255 255 255 255 255\n",
      "  255 255 255 255 255 255 255 255 255 255 255 255 255 255 255 255 255 255\n",
      "  255 255 255 255 255 255 255 255 255 255 255 255 255 255 255 255 255 255\n",
      "  255 255 255 255 255 255 255 255 255 255 255 255 255 255 255 255 255 255\n",
      "  255 255 255 255 255 255 255 255 255 255 255 255 255 255 255 255 250 242\n",
      "  233 224 215 206 197 188 179 170 161 152 143 134 125 116 107  98  89  80\n",
      "   71  62  53  44  35  26  17   9   4   4   4   4   4   4   4   4   4   4\n",
      "    4   4   4   4   4   4   4   4   4   4   4   4   4   4   4   4   4   4\n",
      "    4   4   4   4   4   4   4   4   4   4   4   4   4   4   4   4   4   4\n",
      "    4   4   4   4   4   4   4   4   4   4   4   4   4   4   4   4   4   4\n",
      "    4   4   4   4   4   4   4   4   4   4   4   4   4   4   4   4   4   4\n",
      "    4   4   4   4   4   4   4   4   4   4   4   4   4   4   4   4   4   4\n",
      "    4   4   4   4   4   4   4   4   4   4   4   4   9  17  26  35  44  53\n",
      "   62  71  80  89  98 107 116 125 134 143 152 161 170 179 188 197 206 215\n",
      "  224 233 242 250 255 255 255 255 255 255 255 255 255 255 255 255 255 255\n",
      "  255 255 255 255 255 255 255 255 255 255 255 255 255 255 255 255 255 255\n",
      "  255 255 255 255 255 255 255 255 255 255 255 255 255 255 255 255 255 255\n",
      "  255 255 255 255 255 255 255 255 255 255 255 255 255 255 255 255 255 255\n",
      "  255 255 255 255 255 255 255 255 255 255 255 255 255 255 255 255 255 255\n",
      "  255 255 255 255 255 255 255 255 255 255 255 255 255 255 255 255 255 255\n",
      "  255 255 255 255 255 255 255 255 255 255 255 255 255 255 255 255 255 255\n",
      "  255 255 255 255 255 255 255 255 255 255 255 255 255 255 255 255 255 255\n",
      "  255 255 255 255 255 255 255 255 255 255 255 255 255 255 255 255 255 255\n",
      "  255 255 255 255 255 255 255 255 255 255 255 255 255 255 255 255 255 255\n",
      "  255 255 255 255 255 255 255 255 255 255 255 255 255 255 255 255 255 255\n",
      "  255 255 255 255 255 255 255 255 255 255 255 255 255 255 255 255 255 255\n",
      "  255 255 255 255 255 255 255 255 255 255 255 255 255 255 255 255 255 255\n",
      "  255 255 255 255 255 255 255 255 255 255 255 255 255 255 255 255 255 255\n",
      "  255 255 255 255 255 255 255 255 255 255 255 255 255 255 255 255 255 255\n",
      "  255 255 255 255 255 255 255 255 255 255 255 255 255 255 255 255 255 255\n",
      "  255 255 255 255 255 255 255 255 255 255]]\n",
      "[[255 255 255 255 255 255 255 255 255 255 255 255 255 255 255 255 255 255\n",
      "  255 255 255 255 255 255 255 255 255 255 255 255 255 255 255 255 255 255\n",
      "  255 255 255 255 255 255 255 255 255 255 255 255 255 255 255 255 255 255\n",
      "  255 255 255 255 255 255 255 255 255 255 255 255 255 255 255 255 255 255\n",
      "  255 255 255 255 255 255 255 255 255 255 255 255 255 255 255 255 255 255\n",
      "  255 255 255 255 255 255 255 255 255 255 255 255 255 255 255 255 255 255\n",
      "  255 255 255 255 255 255 255 255 255 255 255 255 255 255 255 255 255 255\n",
      "  255 255 255 255 255 255 255 255 255 255 255 255 255 255 255 255 255 255\n",
      "  255 255 255 255 255 255 255 255 255 255 255 255 255 255 255 255 255 255\n",
      "  255 255 255 255 255 255 255 255 255 255 255 255 255 255 255 255 255 255\n",
      "  255 255 253 248 244 239 235 230 226 221 217 212 208 203 199 195 190 186\n",
      "  181 177 172 168 163 159 154 150 145 141 136 132 127 123 118 114 109 105\n",
      "  101  96  92  87  83  78  74  69  65  60  56  51  47  42  38  33  29  25\n",
      "   20  16  11   7   4   4   4   4   4   4   4   4   4   4   4   4   4   4\n",
      "    4   4   4   4   4   4   4   4   4   4   4   4   4   4   4   4   4   4\n",
      "    4   4   4   4   4   4   4   4   4   4   4   4   4   4   4   4   4   4\n",
      "    4   4   4   4   4   4   4   4   4   4   4   4   4   4   4   4   4   4\n",
      "    4   4   4   4   4   4   4   4   4   4   4   4   4   4   4   4   4   4\n",
      "    4   4   4   4   4   4   4   4   4   4   4   4   4   4   4   4   4   4\n",
      "    4   4   4   4   4   4   4   4   4   4   4   4   4   4   4   4   4   4\n",
      "    4   4   4   4   4   4   4   4   4   4   4   4   4   4   4   4   4   4\n",
      "    4   4   4   4   4   4   4   4   4   4   4   4   4   4   4   4   4   4\n",
      "    4   4   4   4   4   4   4   4   4   4   4   4   4   4   4   4   4   4\n",
      "    4   4   4   4   4   4   4   4   4   4   4   4   4   4   4   4   4   4\n",
      "    4   4   4   4   4   4   4   4   4   4   4   4   4   4   4   4   4   4\n",
      "    4   4   4   4   4   4   4   4   4   4   4   4   4   4   4   4   4   4\n",
      "    4   4   4   4   4   4   4   4   4   4   4   4   4   4   4   4   4   4\n",
      "    4   4   4   4   6  11  15  20  24  29  33  38  42  46  51  55  60  64\n",
      "   69  73  78  82  87  91  95 100 104 109 113 118 122 127 129 129 129 129\n",
      "  129 129 129 129 129 129 129 129 129 129 129 129 129 129 129 129 129 129\n",
      "  129 129 129 129 129 129 132 136 141 145 150 154 159 163 168 172 177 181\n",
      "  186 190 195 199 203 208 212 217 221 226 230 235 239 244 248 253 255 255\n",
      "  255 255 255 255 255 255 255 255 255 255 255 255 255 255 255 255 255 255\n",
      "  255 255 255 255 255 255 255 255 255 255 255 255 255 255 255 255 255 255\n",
      "  255 255 255 255 255 255 255 255 255 255 255 255 255 255 255 255 255 255\n",
      "  255 255 255 255 255 255 255 255 255 255 255 255 255 255 255 255 255 255\n",
      "  255 255 255 255 255 255 255 255 255 255 255 255 255 255 255 255 255 255\n",
      "  255 255 255 255 255 255 255 255 255 255 255 255 255 255 255 255 255 255\n",
      "  255 255 255 255 255 255 255 255 255 255 255 255 255 255 255 255 255 255\n",
      "  255 255 255 255 255 255 255 255 255 255 255 255 255 255 255 255 255 255\n",
      "  255 255 255 255 255 255 255 255 255 255 255 255 255 255 255 255 255 255\n",
      "  255 255 255 255 255 255 255 255 255 255 255 255 255 255 255 255 255 255\n",
      "  255 255 255 255 255 255 255 255 255 255 255 255 255 255 255 255 255 255\n",
      "  255 255 255 255 255 255 255 255 255 255]]\n"
     ]
    }
   ],
   "source": [
    "import numpy as np\n",
    "import matplotlib.pyplot as plt\n",
    "import os\n",
    "import cv2\n",
    "from tqdm import tqdm\n",
    "import tensorflow as tf\n",
    "\n",
    "image_dir = r\"J:\\SelfStudying\\MachineLearning\\DeepLearningBasic\\images\"\n",
    "CATEGORIES = [\"1\"]\n",
    "IMAGE_SIZE = 28\n",
    "train_data = []\n",
    "\n",
    "def preprocess_for_train(image, height, width):\n",
    "#     if image.dtype != tf.float32:\n",
    "#         image = tf.image.convert_image_dtype(image, dtype=tf.float32)\n",
    "    distorted_image = tf.image.resize_images(image, [height, width], method=np.random.randint(4))\n",
    "    return distorted_image\n",
    "\n",
    "for c in CATEGORIES: \n",
    "    try:\n",
    "        c_dir = os.path.join(image_dir, c)\n",
    "        for image_name in os.listdir(c_dir):\n",
    "            image_path = os.path.join(c_dir, image_name)\n",
    "            image = cv2.imread(image_path, cv2.IMREAD_GRAYSCALE)\n",
    "            array = cv2.resize(image, (IMAGE_SIZE, IMAGE_SIZE))\n",
    "#             plt.imshow(array)\n",
    "#             plt.show()\n",
    "            array_line = cv2.resize(array, (IMAGE_SIZE * IMAGE_SIZE, 1))\n",
    "            print(array_line)\n",
    "            index = CATEGORIES.index(c)\n",
    "            train_data.append([array, index])\n",
    "    ###################################################################################\n",
    "    #         image_raw_data = tf.gfile.FastGFile(image_path, \"rb\").read()\n",
    "    #         with tf.Session() as sess:\n",
    "    #             img_data = tf.image.decode_jpeg(image_raw_data)\n",
    "    #             result = preprocess_for_train(img_data, IMAGE_SIZE, IMAGE_SIZE)#, boxes\n",
    "    #             train_data.append(result)\n",
    "    except:\n",
    "        print(image_path)"
   ]
  },
  {
   "cell_type": "code",
   "execution_count": null,
   "metadata": {},
   "outputs": [],
   "source": [
    "import random\n",
    "random.shuffle(train_data)\n",
    "\n",
    "import pickle\n",
    "X = []\n",
    "y = []\n",
    "for array, index in train_data:\n",
    "    X.append(array)\n",
    "    y.append(y)\n",
    "X = np.array(X).reshape(-1, IMAGE_SIZE, IMAGE_SIZE, 1)\n",
    "with open(\"X.pickle\", \"wb\") as f1:\n",
    "    pickle.dump(X, f1)\n",
    "with open(\"y.pickle\", \"wb\") as f2:\n",
    "    pickle.dump(y, f2)"
   ]
  },
  {
   "cell_type": "markdown",
   "metadata": {},
   "source": [
    "# build and save models"
   ]
  },
  {
   "cell_type": "code",
   "execution_count": 24,
   "metadata": {},
   "outputs": [],
   "source": [
    "import pickle\n",
    "with open(\"X.pickle\", \"rb\") as f:\n",
    "    X = pickle.load(f)\n",
    "with open(\"y.pickle\", \"rb\") as f:\n",
    "    y = pickle.load(f)\n",
    "\n",
    "X = X/255.0"
   ]
  },
  {
   "cell_type": "code",
   "execution_count": 25,
   "metadata": {},
   "outputs": [
    {
     "data": {
      "text/plain": [
       "(1531, 50, 50, 1)"
      ]
     },
     "execution_count": 25,
     "metadata": {},
     "output_type": "execute_result"
    }
   ],
   "source": [
    "X.shape"
   ]
  },
  {
   "cell_type": "code",
   "execution_count": null,
   "metadata": {},
   "outputs": [],
   "source": [
    "import tensorflow as tf\n",
    "from tensorflow.keras.models import Sequential\n",
    "from tensorflow.keras.layers import Dense, Dropout, Activation, Flatten\n",
    "from tensorflow.keras.layers import Conv2D, MaxPooling2D\n",
    "from tensorflow.keras.callbacks import TensorBoard\n",
    "\n",
    "NAME = \"2conv-1flatten-1dense\"\n",
    "\n",
    "model = Sequential()\n",
    "\n",
    "model.add(Conv2D(256, (3, 3), input_shape= X.shape[1:]))\n",
    "model.add(Activation(\"relu\"))\n",
    "model.add(MaxPooling2D(pool_size= (2, 2)))\n",
    "\n",
    "model.add(Conv2D(256, (3, 3)))\n",
    "model.add(Activation(\"relu\"))\n",
    "model.add(MaxPooling2D(pool_size= (2, 2)))\n",
    "\n",
    "model.add(Flatten())\n",
    "\n",
    "model.add(Dense(64))\n",
    "\n",
    "model.add(Dense(1))\n",
    "model.add(Activation(\"sigmoid\"))\n",
    "\n",
    "tensorboard = TensorBoard(log_dir=\"logs/{}\".format(NAME))\n",
    "\n",
    "model.compile(loss= \"binary_crossentropy\", \n",
    "            optimizer= \"adam\", \n",
    "              metrics= [\"accuracy\"], \n",
    "              callbacks= [tensorboard]\n",
    "             )\n",
    "\n",
    "model.fit(X, y, batch_size= 32, epochs= 3, validation_split= 0.3)\n",
    "\n",
    "model.save(\"CNN.model\")"
   ]
  },
  {
   "cell_type": "markdown",
   "metadata": {},
   "source": [
    "# inference with new images"
   ]
  },
  {
   "cell_type": "code",
   "execution_count": null,
   "metadata": {},
   "outputs": [],
   "source": [
    "image_infer_path = \"infer_images.jpg\"\n",
    "\n",
    "def prepare(path):\n",
    "    array = cv2.imread(path, cv2.IMREAD_GRAYSCALE)\n",
    "    new_array = cv2.resize(array, (IMAGE_SIZE, IMAGE_SIZE))\n",
    "    return new_array.reshape(-1, IMAGE_SIZE, IMAGE_SIZE, 1)\n",
    "\n",
    "model = tf.keras.models.load_model(\"CNN.model\")\n",
    "r = model.predict([prepare(image_infer_path)])\n",
    "print(CATEGORIES[int(r)])"
   ]
  }
 ],
 "metadata": {
  "kernelspec": {
   "display_name": "Python 3",
   "language": "python",
   "name": "python3"
  },
  "language_info": {
   "codemirror_mode": {
    "name": "ipython",
    "version": 3
   },
   "file_extension": ".py",
   "mimetype": "text/x-python",
   "name": "python",
   "nbconvert_exporter": "python",
   "pygments_lexer": "ipython3",
   "version": "3.6.8"
  }
 },
 "nbformat": 4,
 "nbformat_minor": 2
}
