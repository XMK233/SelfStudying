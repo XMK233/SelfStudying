{
 "cells": [
  {
   "cell_type": "markdown",
   "metadata": {},
   "source": [
    "# part 8"
   ]
  },
  {
   "cell_type": "code",
   "execution_count": 1,
   "metadata": {},
   "outputs": [
    {
     "name": "stdout",
     "output_type": "stream",
     "text": [
      "         time        low       high       open      close      volume\n",
      "0  1528968660  96.580002  96.589996  96.589996  96.580002    9.647200\n",
      "1  1528968720  96.449997  96.669998  96.589996  96.660004  314.387024\n",
      "2  1528968780  96.470001  96.570000  96.570000  96.570000   77.129799\n",
      "3  1528968840  96.449997  96.570000  96.570000  96.500000    7.216067\n",
      "4  1528968900  96.279999  96.540001  96.500000  96.389999  524.539978\n"
     ]
    }
   ],
   "source": [
    "import pandas as pd\n",
    "\n",
    "df = pd.read_csv(\"crypto_data/LTC-USD.csv\", names=['time', 'low', 'high', 'open', 'close', 'volume'])\n",
    "\n",
    "print(df.head())"
   ]
  },
  {
   "cell_type": "code",
   "execution_count": 3,
   "metadata": {},
   "outputs": [
    {
     "name": "stdout",
     "output_type": "stream",
     "text": [
      "BTC-USD\n",
      "LTC-USD\n",
      "BCH-USD\n",
      "ETH-USD\n",
      "            BTC-USD_close  BTC-USD_volume  LTC-USD_close  LTC-USD_volume  \\\n",
      "time                                                                       \n",
      "1528968720    6487.379883        7.706374      96.660004      314.387024   \n",
      "1528968780    6479.410156        3.088252      96.570000       77.129799   \n",
      "1528968840    6479.410156        1.404100      96.500000        7.216067   \n",
      "1528968900    6479.979980        0.753000      96.389999      524.539978   \n",
      "1528968960    6480.000000        1.490900      96.519997       16.991997   \n",
      "\n",
      "            BCH-USD_close  BCH-USD_volume  ETH-USD_close  ETH-USD_volume  \n",
      "time                                                                      \n",
      "1528968720     870.859985       26.856577      486.01001       26.019083  \n",
      "1528968780     870.099976        1.124300      486.00000        8.449400  \n",
      "1528968840     870.789978        1.749862      485.75000       26.994646  \n",
      "1528968900     870.000000        1.680500      486.00000       77.355759  \n",
      "1528968960     869.989990        1.669014      486.00000        7.503300  \n"
     ]
    }
   ],
   "source": [
    "main_df = pd.DataFrame() # begin empty\n",
    "\n",
    "ratios = [\"BTC-USD\", \"LTC-USD\", \"BCH-USD\", \"ETH-USD\"]  # the 4 ratios we want to consider\n",
    "for ratio in ratios:  # begin iteration\n",
    "    print(ratio)\n",
    "    dataset = f'crypto_data/{ratio}.csv'  # get the full path to the file.\n",
    "    df = pd.read_csv(dataset, names=['time', 'low', 'high', 'open', 'close', 'volume'])  # read in specific file\n",
    "\n",
    "    # rename volume and close to include the ticker so we can still which close/volume is which:\n",
    "    df.rename(columns={\"close\": f\"{ratio}_close\", \"volume\": f\"{ratio}_volume\"}, inplace=True)\n",
    "\n",
    "    df.set_index(\"time\", inplace=True)  # set time as index so we can join them on this shared time\n",
    "    df = df[[f\"{ratio}_close\", f\"{ratio}_volume\"]]  # ignore the other columns besides price and volume\n",
    "\n",
    "    if len(main_df)==0:  # if the dataframe is empty\n",
    "        main_df = df  # then it's just the current df\n",
    "    else:  # otherwise, join this data to the main one\n",
    "        main_df = main_df.join(df)\n",
    "\n",
    "main_df.fillna(method=\"ffill\", inplace=True)  # if there are gaps in data, use previously known values\n",
    "main_df.dropna(inplace=True)\n",
    "print(main_df.head())  # how did we do??"
   ]
  },
  {
   "cell_type": "code",
   "execution_count": 4,
   "metadata": {},
   "outputs": [],
   "source": [
    "SEQ_LEN = 60  # how long of a preceeding sequence to collect for RNN\n",
    "FUTURE_PERIOD_PREDICT = 3  # how far into the future are we trying to predict?\n",
    "RATIO_TO_PREDICT = \"LTC-USD\""
   ]
  },
  {
   "cell_type": "code",
   "execution_count": 5,
   "metadata": {},
   "outputs": [],
   "source": [
    "def classify(current, future):\n",
    "    if float(future) > float(current):\n",
    "        return 1\n",
    "    else:\n",
    "        return 0"
   ]
  },
  {
   "cell_type": "markdown",
   "metadata": {},
   "source": [
    "new movement: A.shift"
   ]
  },
  {
   "cell_type": "code",
   "execution_count": 6,
   "metadata": {},
   "outputs": [
    {
     "data": {
      "text/html": [
       "<div>\n",
       "<style scoped>\n",
       "    .dataframe tbody tr th:only-of-type {\n",
       "        vertical-align: middle;\n",
       "    }\n",
       "\n",
       "    .dataframe tbody tr th {\n",
       "        vertical-align: top;\n",
       "    }\n",
       "\n",
       "    .dataframe thead th {\n",
       "        text-align: right;\n",
       "    }\n",
       "</style>\n",
       "<table border=\"1\" class=\"dataframe\">\n",
       "  <thead>\n",
       "    <tr style=\"text-align: right;\">\n",
       "      <th></th>\n",
       "      <th>BTC-USD_close</th>\n",
       "      <th>BTC-USD_volume</th>\n",
       "      <th>LTC-USD_close</th>\n",
       "      <th>LTC-USD_volume</th>\n",
       "      <th>BCH-USD_close</th>\n",
       "      <th>BCH-USD_volume</th>\n",
       "      <th>ETH-USD_close</th>\n",
       "      <th>ETH-USD_volume</th>\n",
       "      <th>future</th>\n",
       "    </tr>\n",
       "    <tr>\n",
       "      <th>time</th>\n",
       "      <th></th>\n",
       "      <th></th>\n",
       "      <th></th>\n",
       "      <th></th>\n",
       "      <th></th>\n",
       "      <th></th>\n",
       "      <th></th>\n",
       "      <th></th>\n",
       "      <th></th>\n",
       "    </tr>\n",
       "  </thead>\n",
       "  <tbody>\n",
       "    <tr>\n",
       "      <th>1528968720</th>\n",
       "      <td>6487.379883</td>\n",
       "      <td>7.706374</td>\n",
       "      <td>96.660004</td>\n",
       "      <td>314.387024</td>\n",
       "      <td>870.859985</td>\n",
       "      <td>26.856577</td>\n",
       "      <td>486.01001</td>\n",
       "      <td>26.019083</td>\n",
       "      <td>96.389999</td>\n",
       "    </tr>\n",
       "    <tr>\n",
       "      <th>1528968780</th>\n",
       "      <td>6479.410156</td>\n",
       "      <td>3.088252</td>\n",
       "      <td>96.570000</td>\n",
       "      <td>77.129799</td>\n",
       "      <td>870.099976</td>\n",
       "      <td>1.124300</td>\n",
       "      <td>486.00000</td>\n",
       "      <td>8.449400</td>\n",
       "      <td>96.519997</td>\n",
       "    </tr>\n",
       "    <tr>\n",
       "      <th>1528968840</th>\n",
       "      <td>6479.410156</td>\n",
       "      <td>1.404100</td>\n",
       "      <td>96.500000</td>\n",
       "      <td>7.216067</td>\n",
       "      <td>870.789978</td>\n",
       "      <td>1.749862</td>\n",
       "      <td>485.75000</td>\n",
       "      <td>26.994646</td>\n",
       "      <td>96.440002</td>\n",
       "    </tr>\n",
       "    <tr>\n",
       "      <th>1528968900</th>\n",
       "      <td>6479.979980</td>\n",
       "      <td>0.753000</td>\n",
       "      <td>96.389999</td>\n",
       "      <td>524.539978</td>\n",
       "      <td>870.000000</td>\n",
       "      <td>1.680500</td>\n",
       "      <td>486.00000</td>\n",
       "      <td>77.355759</td>\n",
       "      <td>96.470001</td>\n",
       "    </tr>\n",
       "    <tr>\n",
       "      <th>1528968960</th>\n",
       "      <td>6480.000000</td>\n",
       "      <td>1.490900</td>\n",
       "      <td>96.519997</td>\n",
       "      <td>16.991997</td>\n",
       "      <td>869.989990</td>\n",
       "      <td>1.669014</td>\n",
       "      <td>486.00000</td>\n",
       "      <td>7.503300</td>\n",
       "      <td>96.400002</td>\n",
       "    </tr>\n",
       "  </tbody>\n",
       "</table>\n",
       "</div>"
      ],
      "text/plain": [
       "            BTC-USD_close  BTC-USD_volume  LTC-USD_close  LTC-USD_volume  \\\n",
       "time                                                                       \n",
       "1528968720    6487.379883        7.706374      96.660004      314.387024   \n",
       "1528968780    6479.410156        3.088252      96.570000       77.129799   \n",
       "1528968840    6479.410156        1.404100      96.500000        7.216067   \n",
       "1528968900    6479.979980        0.753000      96.389999      524.539978   \n",
       "1528968960    6480.000000        1.490900      96.519997       16.991997   \n",
       "\n",
       "            BCH-USD_close  BCH-USD_volume  ETH-USD_close  ETH-USD_volume  \\\n",
       "time                                                                       \n",
       "1528968720     870.859985       26.856577      486.01001       26.019083   \n",
       "1528968780     870.099976        1.124300      486.00000        8.449400   \n",
       "1528968840     870.789978        1.749862      485.75000       26.994646   \n",
       "1528968900     870.000000        1.680500      486.00000       77.355759   \n",
       "1528968960     869.989990        1.669014      486.00000        7.503300   \n",
       "\n",
       "               future  \n",
       "time                   \n",
       "1528968720  96.389999  \n",
       "1528968780  96.519997  \n",
       "1528968840  96.440002  \n",
       "1528968900  96.470001  \n",
       "1528968960  96.400002  "
      ]
     },
     "execution_count": 6,
     "metadata": {},
     "output_type": "execute_result"
    }
   ],
   "source": [
    "main_df['future'] = main_df[f'{RATIO_TO_PREDICT}_close'].shift(-FUTURE_PERIOD_PREDICT)\n",
    "main_df.head()"
   ]
  },
  {
   "cell_type": "code",
   "execution_count": 7,
   "metadata": {},
   "outputs": [
    {
     "data": {
      "text/html": [
       "<div>\n",
       "<style scoped>\n",
       "    .dataframe tbody tr th:only-of-type {\n",
       "        vertical-align: middle;\n",
       "    }\n",
       "\n",
       "    .dataframe tbody tr th {\n",
       "        vertical-align: top;\n",
       "    }\n",
       "\n",
       "    .dataframe thead th {\n",
       "        text-align: right;\n",
       "    }\n",
       "</style>\n",
       "<table border=\"1\" class=\"dataframe\">\n",
       "  <thead>\n",
       "    <tr style=\"text-align: right;\">\n",
       "      <th></th>\n",
       "      <th>BTC-USD_close</th>\n",
       "      <th>BTC-USD_volume</th>\n",
       "      <th>LTC-USD_close</th>\n",
       "      <th>LTC-USD_volume</th>\n",
       "      <th>BCH-USD_close</th>\n",
       "      <th>BCH-USD_volume</th>\n",
       "      <th>ETH-USD_close</th>\n",
       "      <th>ETH-USD_volume</th>\n",
       "      <th>future</th>\n",
       "      <th>target</th>\n",
       "    </tr>\n",
       "    <tr>\n",
       "      <th>time</th>\n",
       "      <th></th>\n",
       "      <th></th>\n",
       "      <th></th>\n",
       "      <th></th>\n",
       "      <th></th>\n",
       "      <th></th>\n",
       "      <th></th>\n",
       "      <th></th>\n",
       "      <th></th>\n",
       "      <th></th>\n",
       "    </tr>\n",
       "  </thead>\n",
       "  <tbody>\n",
       "    <tr>\n",
       "      <th>1528968720</th>\n",
       "      <td>6487.379883</td>\n",
       "      <td>7.706374</td>\n",
       "      <td>96.660004</td>\n",
       "      <td>314.387024</td>\n",
       "      <td>870.859985</td>\n",
       "      <td>26.856577</td>\n",
       "      <td>486.01001</td>\n",
       "      <td>26.019083</td>\n",
       "      <td>96.389999</td>\n",
       "      <td>0</td>\n",
       "    </tr>\n",
       "    <tr>\n",
       "      <th>1528968780</th>\n",
       "      <td>6479.410156</td>\n",
       "      <td>3.088252</td>\n",
       "      <td>96.570000</td>\n",
       "      <td>77.129799</td>\n",
       "      <td>870.099976</td>\n",
       "      <td>1.124300</td>\n",
       "      <td>486.00000</td>\n",
       "      <td>8.449400</td>\n",
       "      <td>96.519997</td>\n",
       "      <td>0</td>\n",
       "    </tr>\n",
       "    <tr>\n",
       "      <th>1528968840</th>\n",
       "      <td>6479.410156</td>\n",
       "      <td>1.404100</td>\n",
       "      <td>96.500000</td>\n",
       "      <td>7.216067</td>\n",
       "      <td>870.789978</td>\n",
       "      <td>1.749862</td>\n",
       "      <td>485.75000</td>\n",
       "      <td>26.994646</td>\n",
       "      <td>96.440002</td>\n",
       "      <td>0</td>\n",
       "    </tr>\n",
       "    <tr>\n",
       "      <th>1528968900</th>\n",
       "      <td>6479.979980</td>\n",
       "      <td>0.753000</td>\n",
       "      <td>96.389999</td>\n",
       "      <td>524.539978</td>\n",
       "      <td>870.000000</td>\n",
       "      <td>1.680500</td>\n",
       "      <td>486.00000</td>\n",
       "      <td>77.355759</td>\n",
       "      <td>96.470001</td>\n",
       "      <td>1</td>\n",
       "    </tr>\n",
       "    <tr>\n",
       "      <th>1528968960</th>\n",
       "      <td>6480.000000</td>\n",
       "      <td>1.490900</td>\n",
       "      <td>96.519997</td>\n",
       "      <td>16.991997</td>\n",
       "      <td>869.989990</td>\n",
       "      <td>1.669014</td>\n",
       "      <td>486.00000</td>\n",
       "      <td>7.503300</td>\n",
       "      <td>96.400002</td>\n",
       "      <td>0</td>\n",
       "    </tr>\n",
       "  </tbody>\n",
       "</table>\n",
       "</div>"
      ],
      "text/plain": [
       "            BTC-USD_close  BTC-USD_volume  LTC-USD_close  LTC-USD_volume  \\\n",
       "time                                                                       \n",
       "1528968720    6487.379883        7.706374      96.660004      314.387024   \n",
       "1528968780    6479.410156        3.088252      96.570000       77.129799   \n",
       "1528968840    6479.410156        1.404100      96.500000        7.216067   \n",
       "1528968900    6479.979980        0.753000      96.389999      524.539978   \n",
       "1528968960    6480.000000        1.490900      96.519997       16.991997   \n",
       "\n",
       "            BCH-USD_close  BCH-USD_volume  ETH-USD_close  ETH-USD_volume  \\\n",
       "time                                                                       \n",
       "1528968720     870.859985       26.856577      486.01001       26.019083   \n",
       "1528968780     870.099976        1.124300      486.00000        8.449400   \n",
       "1528968840     870.789978        1.749862      485.75000       26.994646   \n",
       "1528968900     870.000000        1.680500      486.00000       77.355759   \n",
       "1528968960     869.989990        1.669014      486.00000        7.503300   \n",
       "\n",
       "               future  target  \n",
       "time                           \n",
       "1528968720  96.389999       0  \n",
       "1528968780  96.519997       0  \n",
       "1528968840  96.440002       0  \n",
       "1528968900  96.470001       1  \n",
       "1528968960  96.400002       0  "
      ]
     },
     "execution_count": 7,
     "metadata": {},
     "output_type": "execute_result"
    }
   ],
   "source": [
    "main_df['target'] = list(map(classify, main_df[f'{RATIO_TO_PREDICT}_close'], main_df['future']))\n",
    "main_df.head()"
   ]
  },
  {
   "cell_type": "markdown",
   "metadata": {},
   "source": [
    "# part 9"
   ]
  },
  {
   "cell_type": "markdown",
   "metadata": {},
   "source": [
    "get the last 5% as validation data. "
   ]
  },
  {
   "cell_type": "code",
   "execution_count": 8,
   "metadata": {},
   "outputs": [],
   "source": [
    "times = sorted(main_df.index.values)  # get the times\n",
    "last_5pct = sorted(main_df.index.values)[-int(0.05*len(times))]  # get the last 5% of the times\n",
    "\n",
    "validation_main_df = main_df[(main_df.index >= last_5pct)]  # make the validation data where the index is in the last 5%\n",
    "main_df = main_df[(main_df.index < last_5pct)]  # now the main_df is all the data up to the last 5%"
   ]
  },
  {
   "cell_type": "markdown",
   "metadata": {},
   "source": [
    "drop the future column and scale the data\n",
    "\n",
    "__But I'm not so clear with the *sequential_data* part. Why is it like that?__ "
   ]
  },
  {
   "cell_type": "markdown",
   "metadata": {},
   "source": [
    "# part 10"
   ]
  },
  {
   "cell_type": "markdown",
   "metadata": {},
   "source": [
    "how to process the data"
   ]
  },
  {
   "cell_type": "code",
   "execution_count": 9,
   "metadata": {},
   "outputs": [],
   "source": [
    "from sklearn import preprocessing  # pip install sklearn ... if you don't have it!\n",
    "from collections import deque\n",
    "import numpy as np\n",
    "import random\n",
    "def preprocess_df(df):\n",
    "    df = df.drop(\"future\", 1)  # don't need this anymore.\n",
    "    \n",
    "    for col in df.columns:  # go through all of the columns\n",
    "        if col != \"target\":  # normalize all ... except for the target itself!\n",
    "            df[col] = df[col].pct_change()  # pct change \"normalizes\" the different currencies (each crypto coin has vastly diff values, we're really more interested in the other coin's movements)\n",
    "            df.dropna(inplace=True)  # remove the nas created by pct_change\n",
    "            df[col] = preprocessing.scale(df[col].values)  # scale between 0 and 1.\n",
    "\n",
    "    df.dropna(inplace=True)  # cleanup again... jic.\n",
    "\n",
    "    sequential_data = []  # this is a list that will CONTAIN the sequences\n",
    "    prev_days = deque(maxlen=SEQ_LEN)  # These will be our actual sequences. They are made with deque, which keeps the maximum length by popping out older values as new ones come in\n",
    "    \n",
    "    for i in df.values:  # iterate over the values\n",
    "        prev_days.append([n for n in i[:-1]])  # store all but the target\n",
    "        if len(prev_days) == SEQ_LEN:  # make sure we have 60 sequences!\n",
    "            sequential_data.append([np.array(prev_days), i[-1]])  # append those bad boys!\n",
    "\n",
    "    random.shuffle(sequential_data)  # shuffle for good measure.\n",
    "\n",
    "    buys = []  # list that will store our buy sequences and targets\n",
    "    sells = []  # list that will store our sell sequences and targets\n",
    "\n",
    "    for seq, target in sequential_data:  # iterate over the sequential data\n",
    "        if target == 0:  # if it's a \"not buy\"\n",
    "            sells.append([seq, target])  # append to sells list\n",
    "        elif target == 1:  # otherwise if the target is a 1...\n",
    "            buys.append([seq, target])  # it's a buy!\n",
    "\n",
    "    random.shuffle(buys)  # shuffle the buys\n",
    "    random.shuffle(sells)  # shuffle the sells!\n",
    "\n",
    "    lower = min(len(buys), len(sells))  # what's the shorter length?\n",
    "\n",
    "    buys = buys[:lower]  # make sure both lists are only up to the shortest length.\n",
    "    sells = sells[:lower]  # make sure both lists are only up to the shortest length.\n",
    "\n",
    "    sequential_data = buys+sells  # add them together\n",
    "    random.shuffle(sequential_data)  # another shuffle, so the model doesn't get confused with all 1 class then the other.\n",
    "\n",
    "    X = []\n",
    "    y = []\n",
    "\n",
    "    for seq, target in sequential_data:  # going over our new sequential data\n",
    "        X.append(seq)  # X is the sequences\n",
    "        y.append(target)  # y is the targets/labels (buys vs sell/notbuy)\n",
    "\n",
    "    return np.array(X), y  # return X and y...and make X a numpy array!"
   ]
  },
  {
   "cell_type": "markdown",
   "metadata": {},
   "source": [
    "get the training data and anything related. "
   ]
  },
  {
   "cell_type": "code",
   "execution_count": 10,
   "metadata": {},
   "outputs": [],
   "source": [
    "train_x, train_y = preprocess_df(main_df)\n",
    "validation_x, validation_y = preprocess_df(validation_main_df)"
   ]
  },
  {
   "cell_type": "code",
   "execution_count": 11,
   "metadata": {},
   "outputs": [
    {
     "name": "stdout",
     "output_type": "stream",
     "text": [
      "train data: 77922 validation: 3860\n",
      "Dont buys: 38961, buys: 38961\n",
      "VALIDATION Dont buys: 1930, buys: 1930\n"
     ]
    }
   ],
   "source": [
    "print(f\"train data: {len(train_x)} validation: {len(validation_x)}\")\n",
    "print(f\"Dont buys: {train_y.count(0)}, buys: {train_y.count(1)}\")\n",
    "print(f\"VALIDATION Dont buys: {validation_y.count(0)}, buys: {validation_y.count(1)}\")"
   ]
  },
  {
   "cell_type": "markdown",
   "metadata": {},
   "source": [
    "# Part 11"
   ]
  },
  {
   "cell_type": "markdown",
   "metadata": {},
   "source": [
    "new constant"
   ]
  },
  {
   "cell_type": "code",
   "execution_count": 28,
   "metadata": {},
   "outputs": [],
   "source": [
    "import time\n",
    "\n",
    "EPOCHS = 10  # how many passes through our data\n",
    "BATCH_SIZE = 64  # how many batches? Try smaller batch if you're getting OOM (out of memory) errors.\n",
    "NAME = f\"{SEQ_LEN}-SEQ-{FUTURE_PERIOD_PREDICT}-PRED-{int(time.time())}\"  # a unique name for the model time.strftime('%Y_%m_%d_%H:%M:%S', time.localtime(time.time()))"
   ]
  },
  {
   "cell_type": "markdown",
   "metadata": {},
   "source": [
    "everything needed for tensorflow"
   ]
  },
  {
   "cell_type": "code",
   "execution_count": 13,
   "metadata": {},
   "outputs": [],
   "source": [
    "import tensorflow as tf\n",
    "from tensorflow.keras.models import Sequential\n",
    "from tensorflow.keras.layers import Dense, Dropout, LSTM, CuDNNLSTM, BatchNormalization\n",
    "from tensorflow.keras.callbacks import TensorBoard\n",
    "from tensorflow.keras.callbacks import ModelCheckpoint"
   ]
  },
  {
   "cell_type": "markdown",
   "metadata": {},
   "source": [
    "network"
   ]
  },
  {
   "cell_type": "code",
   "execution_count": 17,
   "metadata": {},
   "outputs": [],
   "source": [
    "model = Sequential()\n",
    "model.add(LSTM(128, input_shape=(train_x.shape[1:]), return_sequences=True))\n",
    "model.add(Dropout(0.2))\n",
    "model.add(BatchNormalization())  #normalizes activation outputs, same reason you want to normalize your input data.\n",
    "\n",
    "model.add(LSTM(128, return_sequences=True))\n",
    "model.add(Dropout(0.1))\n",
    "model.add(BatchNormalization())\n",
    "\n",
    "model.add(LSTM(128))\n",
    "model.add(Dropout(0.2))\n",
    "model.add(BatchNormalization())\n",
    "\n",
    "model.add(Dense(32, activation='relu'))\n",
    "model.add(Dropout(0.2))\n",
    "\n",
    "model.add(Dense(2, activation='softmax'))"
   ]
  },
  {
   "cell_type": "markdown",
   "metadata": {},
   "source": [
    "Model compile settings:"
   ]
  },
  {
   "cell_type": "code",
   "execution_count": 30,
   "metadata": {},
   "outputs": [],
   "source": [
    "opt = tf.keras.optimizers.Adam(lr=0.001, decay=1e-6)\n",
    "\n",
    "# Compile model\n",
    "model.compile(\n",
    "    loss='sparse_categorical_crossentropy',\n",
    "    optimizer=opt,\n",
    "    metrics=['accuracy']\n",
    ")"
   ]
  },
  {
   "cell_type": "markdown",
   "metadata": {},
   "source": [
    "TensorBoard callback:"
   ]
  },
  {
   "cell_type": "code",
   "execution_count": 31,
   "metadata": {},
   "outputs": [],
   "source": [
    "tensorboard = TensorBoard(log_dir=\"logs/{}\".format(NAME))"
   ]
  },
  {
   "cell_type": "markdown",
   "metadata": {},
   "source": [
    "Next, let's check out the ModelCheckpoint callback"
   ]
  },
  {
   "cell_type": "code",
   "execution_count": 32,
   "metadata": {},
   "outputs": [],
   "source": [
    "filepath = \"RNN_Final-{epoch:02d}-{val_acc:.3f}\"  # unique file name that will include the epoch and the validation acc for that epoch\n",
    "checkpoint = ModelCheckpoint(\"models/{}.model\".format(filepath, monitor='val_acc', verbose=1, save_best_only=True, mode='max')) # saves only the best ones"
   ]
  },
  {
   "cell_type": "code",
   "execution_count": 42,
   "metadata": {},
   "outputs": [
    {
     "name": "stdout",
     "output_type": "stream",
     "text": [
      "Train on 77922 samples, validate on 3860 samples\n",
      "Epoch 1/10\n",
      "77922/77922 [==============================] - 427s 5ms/step - loss: 0.6853 - acc: 0.5531 - val_loss: 0.6908 - val_acc: 0.5347\n",
      "Epoch 2/10\n",
      "77922/77922 [==============================] - 457s 6ms/step - loss: 0.6826 - acc: 0.5613 - val_loss: 0.6806 - val_acc: 0.5687\n",
      "Epoch 3/10\n",
      "77922/77922 [==============================] - 434s 6ms/step - loss: 0.6807 - acc: 0.5661 - val_loss: 0.6795 - val_acc: 0.5697\n",
      "Epoch 4/10\n",
      "77922/77922 [==============================] - 444s 6ms/step - loss: 0.6807 - acc: 0.5621 - val_loss: 0.6732 - val_acc: 0.5756\n",
      "Epoch 5/10\n",
      "55616/77922 [====================>.........] - ETA: 2:05 - loss: 0.6787 - acc: 0.5672WARNING:tensorflow:Method on_batch_end() is slow compared to the batch update (0.303120). Check your callbacks.\n",
      "55680/77922 [====================>.........] - ETA: 2:04 - loss: 0.6787 - acc: 0.5671WARNING:tensorflow:Method on_batch_end() is slow compared to the batch update (0.280499). Check your callbacks.\n",
      "55744/77922 [====================>.........] - ETA: 2:04 - loss: 0.6787 - acc: 0.5671WARNING:tensorflow:Method on_batch_end() is slow compared to the batch update (0.324385). Check your callbacks.\n",
      "55808/77922 [====================>.........] - ETA: 2:04 - loss: 0.6788 - acc: 0.5671WARNING:tensorflow:Method on_batch_end() is slow compared to the batch update (0.339233). Check your callbacks.\n",
      "55872/77922 [====================>.........] - ETA: 2:03 - loss: 0.6788 - acc: 0.5670WARNING:tensorflow:Method on_batch_end() is slow compared to the batch update (0.339233). Check your callbacks.\n",
      "55936/77922 [====================>.........] - ETA: 2:03 - loss: 0.6788 - acc: 0.5670WARNING:tensorflow:Method on_batch_end() is slow compared to the batch update (0.339233). Check your callbacks.\n",
      "56000/77922 [====================>.........] - ETA: 2:03 - loss: 0.6789 - acc: 0.5669WARNING:tensorflow:Method on_batch_end() is slow compared to the batch update (0.339233). Check your callbacks.\n",
      "56064/77922 [====================>.........] - ETA: 2:03 - loss: 0.6788 - acc: 0.5669WARNING:tensorflow:Method on_batch_end() is slow compared to the batch update (0.312365). Check your callbacks.\n",
      "65728/77922 [========================>.....] - ETA: 1:10 - loss: 0.6786 - acc: 0.5678WARNING:tensorflow:Method on_batch_end() is slow compared to the batch update (0.301044). Check your callbacks.\n",
      "65792/77922 [========================>.....] - ETA: 1:10 - loss: 0.6786 - acc: 0.5678WARNING:tensorflow:Method on_batch_end() is slow compared to the batch update (0.301044). Check your callbacks.\n",
      "70912/77922 [==========================>...] - ETA: 41s - loss: 0.6789 - acc: 0.5677WARNING:tensorflow:Method on_batch_end() is slow compared to the batch update (0.344145). Check your callbacks.\n",
      "70976/77922 [==========================>...] - ETA: 40s - loss: 0.6789 - acc: 0.5677WARNING:tensorflow:Method on_batch_end() is slow compared to the batch update (0.346567). Check your callbacks.\n",
      "71040/77922 [==========================>...] - ETA: 40s - loss: 0.6789 - acc: 0.5676WARNING:tensorflow:Method on_batch_end() is slow compared to the batch update (0.346567). Check your callbacks.\n",
      "71104/77922 [==========================>...] - ETA: 40s - loss: 0.6789 - acc: 0.5676WARNING:tensorflow:Method on_batch_end() is slow compared to the batch update (0.346567). Check your callbacks.\n",
      "71168/77922 [==========================>...] - ETA: 39s - loss: 0.6789 - acc: 0.5675WARNING:tensorflow:Method on_batch_end() is slow compared to the batch update (0.344145). Check your callbacks.\n",
      "71232/77922 [==========================>...] - ETA: 39s - loss: 0.6789 - acc: 0.5676WARNING:tensorflow:Method on_batch_end() is slow compared to the batch update (0.346567). Check your callbacks.\n",
      "71296/77922 [==========================>...] - ETA: 39s - loss: 0.6789 - acc: 0.5676WARNING:tensorflow:Method on_batch_end() is slow compared to the batch update (0.346567). Check your callbacks.\n",
      "71360/77922 [==========================>...] - ETA: 38s - loss: 0.6789 - acc: 0.5677WARNING:tensorflow:Method on_batch_end() is slow compared to the batch update (0.363868). Check your callbacks.\n",
      "71424/77922 [==========================>...] - ETA: 38s - loss: 0.6789 - acc: 0.5678WARNING:tensorflow:Method on_batch_end() is slow compared to the batch update (0.339798). Check your callbacks.\n",
      "72320/77922 [==========================>...] - ETA: 33s - loss: 0.6787 - acc: 0.5680WARNING:tensorflow:Method on_batch_end() is slow compared to the batch update (0.328387). Check your callbacks.\n",
      "77922/77922 [==============================] - 484s 6ms/step - loss: 0.6788 - acc: 0.5677 - val_loss: 0.6773 - val_acc: 0.5733\n",
      "Epoch 6/10\n",
      "   64/77922 [..............................] - ETA: 12:11 - loss: 0.7205 - acc: 0.3906WARNING:tensorflow:Method on_batch_end() is slow compared to the batch update (0.300515). Check your callbacks.\n",
      "  128/77922 [..............................] - ETA: 12:51 - loss: 0.6889 - acc: 0.5078WARNING:tensorflow:Method on_batch_end() is slow compared to the batch update (0.328688). Check your callbacks.\n",
      "  192/77922 [..............................] - ETA: 11:39 - loss: 0.6988 - acc: 0.4948WARNING:tensorflow:Method on_batch_end() is slow compared to the batch update (0.300515). Check your callbacks.\n",
      " 6912/77922 [=>............................] - ETA: 9:40 - loss: 0.6780 - acc: 0.5752WARNING:tensorflow:Method on_batch_end() is slow compared to the batch update (0.343661). Check your callbacks.\n",
      " 7168/77922 [=>............................] - ETA: 9:43 - loss: 0.6775 - acc: 0.5763WARNING:tensorflow:Method on_batch_end() is slow compared to the batch update (0.312494). Check your callbacks.\n",
      " 7232/77922 [=>............................] - ETA: 9:44 - loss: 0.6776 - acc: 0.5766WARNING:tensorflow:Method on_batch_end() is slow compared to the batch update (0.360868). Check your callbacks.\n",
      " 7296/77922 [=>............................] - ETA: 9:46 - loss: 0.6774 - acc: 0.5772WARNING:tensorflow:Method on_batch_end() is slow compared to the batch update (0.368048). Check your callbacks.\n",
      " 7360/77922 [=>............................] - ETA: 9:46 - loss: 0.6775 - acc: 0.5772WARNING:tensorflow:Method on_batch_end() is slow compared to the batch update (0.368048). Check your callbacks.\n",
      " 7424/77922 [=>............................] - ETA: 9:45 - loss: 0.6776 - acc: 0.5766WARNING:tensorflow:Method on_batch_end() is slow compared to the batch update (0.355844). Check your callbacks.\n",
      " 7488/77922 [=>............................] - ETA: 9:45 - loss: 0.6775 - acc: 0.5765WARNING:tensorflow:Method on_batch_end() is slow compared to the batch update (0.317688). Check your callbacks.\n",
      " 7552/77922 [=>............................] - ETA: 9:44 - loss: 0.6774 - acc: 0.5763WARNING:tensorflow:Method on_batch_end() is slow compared to the batch update (0.317688). Check your callbacks.\n",
      " 7680/77922 [=>............................] - ETA: 9:44 - loss: 0.6774 - acc: 0.5759WARNING:tensorflow:Method on_batch_end() is slow compared to the batch update (0.330288). Check your callbacks.\n",
      " 7744/77922 [=>............................] - ETA: 9:45 - loss: 0.6775 - acc: 0.5755WARNING:tensorflow:Method on_batch_end() is slow compared to the batch update (0.330288). Check your callbacks.\n",
      " 7808/77922 [==>...........................] - ETA: 9:46 - loss: 0.6775 - acc: 0.5757WARNING:tensorflow:Method on_batch_end() is slow compared to the batch update (0.330288). Check your callbacks.\n",
      " 7872/77922 [==>...........................] - ETA: 9:44 - loss: 0.6774 - acc: 0.5762WARNING:tensorflow:Method on_batch_end() is slow compared to the batch update (0.315445). Check your callbacks.\n",
      " 9152/77922 [==>...........................] - ETA: 9:37 - loss: 0.6777 - acc: 0.5781WARNING:tensorflow:Method on_batch_end() is slow compared to the batch update (0.292845). Check your callbacks.\n",
      " 9344/77922 [==>...........................] - ETA: 9:34 - loss: 0.6779 - acc: 0.5766WARNING:tensorflow:Method on_batch_end() is slow compared to the batch update (0.293470). Check your callbacks.\n",
      " 9408/77922 [==>...........................] - ETA: 9:34 - loss: 0.6779 - acc: 0.5764WARNING:tensorflow:Method on_batch_end() is slow compared to the batch update (0.312410). Check your callbacks.\n"
     ]
    },
    {
     "name": "stdout",
     "output_type": "stream",
     "text": [
      "11648/77922 [===>..........................] - ETA: 9:21 - loss: 0.6779 - acc: 0.5738WARNING:tensorflow:Method on_batch_end() is slow compared to the batch update (0.323813). Check your callbacks.\n",
      "11712/77922 [===>..........................] - ETA: 9:22 - loss: 0.6778 - acc: 0.5741WARNING:tensorflow:Method on_batch_end() is slow compared to the batch update (0.348817). Check your callbacks.\n",
      "11776/77922 [===>..........................] - ETA: 9:20 - loss: 0.6778 - acc: 0.5737WARNING:tensorflow:Method on_batch_end() is slow compared to the batch update (0.316407). Check your callbacks.\n",
      "11840/77922 [===>..........................] - ETA: 9:20 - loss: 0.6778 - acc: 0.5736WARNING:tensorflow:Method on_batch_end() is slow compared to the batch update (0.338321). Check your callbacks.\n",
      "11904/77922 [===>..........................] - ETA: 9:19 - loss: 0.6779 - acc: 0.5736WARNING:tensorflow:Method on_batch_end() is slow compared to the batch update (0.310926). Check your callbacks.\n",
      "12672/77922 [===>..........................] - ETA: 9:16 - loss: 0.6774 - acc: 0.5733WARNING:tensorflow:Method on_batch_end() is slow compared to the batch update (0.334911). Check your callbacks.\n",
      "12736/77922 [===>..........................] - ETA: 9:17 - loss: 0.6773 - acc: 0.5739WARNING:tensorflow:Method on_batch_end() is slow compared to the batch update (0.364600). Check your callbacks.\n",
      "12800/77922 [===>..........................] - ETA: 9:17 - loss: 0.6773 - acc: 0.5740WARNING:tensorflow:Method on_batch_end() is slow compared to the batch update (0.365099). Check your callbacks.\n",
      "12864/77922 [===>..........................] - ETA: 9:17 - loss: 0.6772 - acc: 0.5740WARNING:tensorflow:Method on_batch_end() is slow compared to the batch update (0.376075). Check your callbacks.\n",
      "12928/77922 [===>..........................] - ETA: 9:17 - loss: 0.6770 - acc: 0.5743WARNING:tensorflow:Method on_batch_end() is slow compared to the batch update (0.365099). Check your callbacks.\n",
      "12992/77922 [====>.........................] - ETA: 9:17 - loss: 0.6770 - acc: 0.5742WARNING:tensorflow:Method on_batch_end() is slow compared to the batch update (0.376075). Check your callbacks.\n",
      "13056/77922 [====>.........................] - ETA: 9:18 - loss: 0.6773 - acc: 0.5736WARNING:tensorflow:Method on_batch_end() is slow compared to the batch update (0.396791). Check your callbacks.\n",
      "13120/77922 [====>.........................] - ETA: 9:17 - loss: 0.6773 - acc: 0.5733WARNING:tensorflow:Method on_batch_end() is slow compared to the batch update (0.376075). Check your callbacks.\n",
      "13184/77922 [====>.........................] - ETA: 9:15 - loss: 0.6773 - acc: 0.5731WARNING:tensorflow:Method on_batch_end() is slow compared to the batch update (0.366771). Check your callbacks.\n",
      "13248/77922 [====>.........................] - ETA: 9:14 - loss: 0.6772 - acc: 0.5734WARNING:tensorflow:Method on_batch_end() is slow compared to the batch update (0.366771). Check your callbacks.\n",
      "13312/77922 [====>.........................] - ETA: 9:12 - loss: 0.6773 - acc: 0.5733WARNING:tensorflow:Method on_batch_end() is slow compared to the batch update (0.345928). Check your callbacks.\n",
      "14656/77922 [====>.........................] - ETA: 9:00 - loss: 0.6769 - acc: 0.5729WARNING:tensorflow:Method on_batch_end() is slow compared to the batch update (0.333324). Check your callbacks.\n",
      "14848/77922 [====>.........................] - ETA: 9:01 - loss: 0.6770 - acc: 0.5729WARNING:tensorflow:Method on_batch_end() is slow compared to the batch update (0.342737). Check your callbacks.\n",
      "14912/77922 [====>.........................] - ETA: 9:01 - loss: 0.6770 - acc: 0.5726WARNING:tensorflow:Method on_batch_end() is slow compared to the batch update (0.394743). Check your callbacks.\n",
      "14976/77922 [====>.........................] - ETA: 9:00 - loss: 0.6770 - acc: 0.5728WARNING:tensorflow:Method on_batch_end() is slow compared to the batch update (0.394743). Check your callbacks.\n",
      "15040/77922 [====>.........................] - ETA: 9:00 - loss: 0.6767 - acc: 0.5732WARNING:tensorflow:Method on_batch_end() is slow compared to the batch update (0.374196). Check your callbacks.\n",
      "15104/77922 [====>.........................] - ETA: 9:00 - loss: 0.6767 - acc: 0.5733WARNING:tensorflow:Method on_batch_end() is slow compared to the batch update (0.346741). Check your callbacks.\n",
      "15168/77922 [====>.........................] - ETA: 9:01 - loss: 0.6767 - acc: 0.5735WARNING:tensorflow:Method on_batch_end() is slow compared to the batch update (0.391542). Check your callbacks.\n",
      "15232/77922 [====>.........................] - ETA: 9:00 - loss: 0.6767 - acc: 0.5738WARNING:tensorflow:Method on_batch_end() is slow compared to the batch update (0.346741). Check your callbacks.\n",
      "15296/77922 [====>.........................] - ETA: 9:00 - loss: 0.6767 - acc: 0.5738WARNING:tensorflow:Method on_batch_end() is slow compared to the batch update (0.346741). Check your callbacks.\n",
      "15360/77922 [====>.........................] - ETA: 8:59 - loss: 0.6768 - acc: 0.5736WARNING:tensorflow:Method on_batch_end() is slow compared to the batch update (0.346741). Check your callbacks.\n",
      "15424/77922 [====>.........................] - ETA: 8:59 - loss: 0.6767 - acc: 0.5742WARNING:tensorflow:Method on_batch_end() is slow compared to the batch update (0.346741). Check your callbacks.\n",
      "21888/77922 [=======>......................] - ETA: 8:07 - loss: 0.6780 - acc: 0.5689WARNING:tensorflow:Method on_batch_end() is slow compared to the batch update (0.336291). Check your callbacks.\n",
      "21952/77922 [=======>......................] - ETA: 8:06 - loss: 0.6780 - acc: 0.5691WARNING:tensorflow:Method on_batch_end() is slow compared to the batch update (0.336291). Check your callbacks.\n",
      "22016/77922 [=======>......................] - ETA: 8:06 - loss: 0.6780 - acc: 0.5689WARNING:tensorflow:Method on_batch_end() is slow compared to the batch update (0.336291). Check your callbacks.\n",
      "22976/77922 [=======>......................] - ETA: 7:57 - loss: 0.6781 - acc: 0.5684WARNING:tensorflow:Method on_batch_end() is slow compared to the batch update (0.315291). Check your callbacks.\n",
      "23040/77922 [=======>......................] - ETA: 7:57 - loss: 0.6781 - acc: 0.5683WARNING:tensorflow:Method on_batch_end() is slow compared to the batch update (0.334759). Check your callbacks.\n",
      "23104/77922 [=======>......................] - ETA: 7:56 - loss: 0.6781 - acc: 0.5682WARNING:tensorflow:Method on_batch_end() is slow compared to the batch update (0.315291). Check your callbacks.\n",
      "23168/77922 [=======>......................] - ETA: 7:56 - loss: 0.6782 - acc: 0.5682WARNING:tensorflow:Method on_batch_end() is slow compared to the batch update (0.332278). Check your callbacks.\n",
      "23232/77922 [=======>......................] - ETA: 7:56 - loss: 0.6782 - acc: 0.5681WARNING:tensorflow:Method on_batch_end() is slow compared to the batch update (0.324792). Check your callbacks.\n",
      "23296/77922 [=======>......................] - ETA: 7:55 - loss: 0.6783 - acc: 0.5678WARNING:tensorflow:Method on_batch_end() is slow compared to the batch update (0.332278). Check your callbacks.\n",
      "23360/77922 [=======>......................] - ETA: 7:55 - loss: 0.6783 - acc: 0.5678WARNING:tensorflow:Method on_batch_end() is slow compared to the batch update (0.332278). Check your callbacks.\n",
      "23424/77922 [========>.....................] - ETA: 7:55 - loss: 0.6784 - acc: 0.5676WARNING:tensorflow:Method on_batch_end() is slow compared to the batch update (0.342793). Check your callbacks.\n",
      "23488/77922 [========>.....................] - ETA: 7:54 - loss: 0.6785 - acc: 0.5673WARNING:tensorflow:Method on_batch_end() is slow compared to the batch update (0.342793). Check your callbacks.\n",
      "23552/77922 [========>.....................] - ETA: 7:54 - loss: 0.6786 - acc: 0.5672WARNING:tensorflow:Method on_batch_end() is slow compared to the batch update (0.342793). Check your callbacks.\n",
      "23616/77922 [========>.....................] - ETA: 7:54 - loss: 0.6785 - acc: 0.5673WARNING:tensorflow:Method on_batch_end() is slow compared to the batch update (0.342793). Check your callbacks.\n",
      "23680/77922 [========>.....................] - ETA: 7:53 - loss: 0.6786 - acc: 0.5674WARNING:tensorflow:Method on_batch_end() is slow compared to the batch update (0.327879). Check your callbacks.\n"
     ]
    },
    {
     "name": "stdout",
     "output_type": "stream",
     "text": [
      "23744/77922 [========>.....................] - ETA: 7:52 - loss: 0.6786 - acc: 0.5676WARNING:tensorflow:Method on_batch_end() is slow compared to the batch update (0.327879). Check your callbacks.\n",
      "23808/77922 [========>.....................] - ETA: 7:52 - loss: 0.6786 - acc: 0.5675WARNING:tensorflow:Method on_batch_end() is slow compared to the batch update (0.335867). Check your callbacks.\n",
      "23872/77922 [========>.....................] - ETA: 7:52 - loss: 0.6786 - acc: 0.5676WARNING:tensorflow:Method on_batch_end() is slow compared to the batch update (0.355289). Check your callbacks.\n",
      "23936/77922 [========>.....................] - ETA: 7:51 - loss: 0.6786 - acc: 0.5678WARNING:tensorflow:Method on_batch_end() is slow compared to the batch update (0.340375). Check your callbacks.\n",
      "24000/77922 [========>.....................] - ETA: 7:51 - loss: 0.6787 - acc: 0.5677WARNING:tensorflow:Method on_batch_end() is slow compared to the batch update (0.308398). Check your callbacks.\n",
      "24064/77922 [========>.....................] - ETA: 7:50 - loss: 0.6787 - acc: 0.5676WARNING:tensorflow:Method on_batch_end() is slow compared to the batch update (0.295468). Check your callbacks.\n",
      "25216/77922 [========>.....................] - ETA: 7:39 - loss: 0.6783 - acc: 0.5688WARNING:tensorflow:Method on_batch_end() is slow compared to the batch update (0.279747). Check your callbacks.\n",
      "25408/77922 [========>.....................] - ETA: 7:38 - loss: 0.6783 - acc: 0.5690WARNING:tensorflow:Method on_batch_end() is slow compared to the batch update (0.286930). Check your callbacks.\n",
      "25472/77922 [========>.....................] - ETA: 7:37 - loss: 0.6783 - acc: 0.5690WARNING:tensorflow:Method on_batch_end() is slow compared to the batch update (0.299033). Check your callbacks.\n",
      "25536/77922 [========>.....................] - ETA: 7:37 - loss: 0.6782 - acc: 0.5691WARNING:tensorflow:Method on_batch_end() is slow compared to the batch update (0.291395). Check your callbacks.\n",
      "25600/77922 [========>.....................] - ETA: 7:36 - loss: 0.6783 - acc: 0.5693WARNING:tensorflow:Method on_batch_end() is slow compared to the batch update (0.291395). Check your callbacks.\n",
      "27392/77922 [=========>....................] - ETA: 7:20 - loss: 0.6787 - acc: 0.5687WARNING:tensorflow:Method on_batch_end() is slow compared to the batch update (0.284643). Check your callbacks.\n",
      "27456/77922 [=========>....................] - ETA: 7:19 - loss: 0.6787 - acc: 0.5687WARNING:tensorflow:Method on_batch_end() is slow compared to the batch update (0.284643). Check your callbacks.\n",
      "27520/77922 [=========>....................] - ETA: 7:18 - loss: 0.6787 - acc: 0.5685WARNING:tensorflow:Method on_batch_end() is slow compared to the batch update (0.284643). Check your callbacks.\n",
      "27584/77922 [=========>....................] - ETA: 7:18 - loss: 0.6787 - acc: 0.5685WARNING:tensorflow:Method on_batch_end() is slow compared to the batch update (0.296808). Check your callbacks.\n",
      "27648/77922 [=========>....................] - ETA: 7:17 - loss: 0.6786 - acc: 0.5687WARNING:tensorflow:Method on_batch_end() is slow compared to the batch update (0.296808). Check your callbacks.\n",
      "27712/77922 [=========>....................] - ETA: 7:17 - loss: 0.6786 - acc: 0.5686WARNING:tensorflow:Method on_batch_end() is slow compared to the batch update (0.305428). Check your callbacks.\n",
      "27776/77922 [=========>....................] - ETA: 7:16 - loss: 0.6786 - acc: 0.5688WARNING:tensorflow:Method on_batch_end() is slow compared to the batch update (0.288241). Check your callbacks.\n",
      "27840/77922 [=========>....................] - ETA: 7:15 - loss: 0.6786 - acc: 0.5689WARNING:tensorflow:Method on_batch_end() is slow compared to the batch update (0.279291). Check your callbacks.\n",
      "71680/77922 [==========================>...] - ETA: 43s - loss: 0.6777 - acc: 0.5709WARNING:tensorflow:Method on_batch_end() is slow compared to the batch update (0.294459). Check your callbacks.\n",
      "71872/77922 [==========================>...] - ETA: 42s - loss: 0.6777 - acc: 0.5710WARNING:tensorflow:Method on_batch_end() is slow compared to the batch update (0.294459). Check your callbacks.\n",
      "72576/77922 [==========================>...] - ETA: 37s - loss: 0.6777 - acc: 0.5710WARNING:tensorflow:Method on_batch_end() is slow compared to the batch update (0.317082). Check your callbacks.\n",
      "72640/77922 [==========================>...] - ETA: 37s - loss: 0.6777 - acc: 0.5710WARNING:tensorflow:Method on_batch_end() is slow compared to the batch update (0.330387). Check your callbacks.\n",
      "72704/77922 [==========================>...] - ETA: 36s - loss: 0.6777 - acc: 0.5709WARNING:tensorflow:Method on_batch_end() is slow compared to the batch update (0.330387). Check your callbacks.\n",
      "72768/77922 [===========================>..] - ETA: 36s - loss: 0.6776 - acc: 0.5710WARNING:tensorflow:Method on_batch_end() is slow compared to the batch update (0.291160). Check your callbacks.\n",
      "72832/77922 [===========================>..] - ETA: 35s - loss: 0.6777 - acc: 0.5710WARNING:tensorflow:Method on_batch_end() is slow compared to the batch update (0.324291). Check your callbacks.\n",
      "72896/77922 [===========================>..] - ETA: 35s - loss: 0.6776 - acc: 0.5710WARNING:tensorflow:Method on_batch_end() is slow compared to the batch update (0.324291). Check your callbacks.\n",
      "72960/77922 [===========================>..] - ETA: 35s - loss: 0.6776 - acc: 0.5711WARNING:tensorflow:Method on_batch_end() is slow compared to the batch update (0.350213). Check your callbacks.\n",
      "73024/77922 [===========================>..] - ETA: 34s - loss: 0.6776 - acc: 0.5711WARNING:tensorflow:Method on_batch_end() is slow compared to the batch update (0.324291). Check your callbacks.\n",
      "73088/77922 [===========================>..] - ETA: 34s - loss: 0.6776 - acc: 0.5710WARNING:tensorflow:Method on_batch_end() is slow compared to the batch update (0.324291). Check your callbacks.\n",
      "73152/77922 [===========================>..] - ETA: 33s - loss: 0.6776 - acc: 0.5711WARNING:tensorflow:Method on_batch_end() is slow compared to the batch update (0.357441). Check your callbacks.\n",
      "73216/77922 [===========================>..] - ETA: 33s - loss: 0.6776 - acc: 0.5711WARNING:tensorflow:Method on_batch_end() is slow compared to the batch update (0.324291). Check your callbacks.\n",
      "73280/77922 [===========================>..] - ETA: 32s - loss: 0.6776 - acc: 0.5710WARNING:tensorflow:Method on_batch_end() is slow compared to the batch update (0.321185). Check your callbacks.\n",
      "73344/77922 [===========================>..] - ETA: 32s - loss: 0.6776 - acc: 0.5709WARNING:tensorflow:Method on_batch_end() is slow compared to the batch update (0.356536). Check your callbacks.\n",
      "73408/77922 [===========================>..] - ETA: 31s - loss: 0.6776 - acc: 0.5709WARNING:tensorflow:Method on_batch_end() is slow compared to the batch update (0.369861). Check your callbacks.\n",
      "73472/77922 [===========================>..] - ETA: 31s - loss: 0.6777 - acc: 0.5708WARNING:tensorflow:Method on_batch_end() is slow compared to the batch update (0.369861). Check your callbacks.\n",
      "73536/77922 [===========================>..] - ETA: 31s - loss: 0.6777 - acc: 0.5709WARNING:tensorflow:Method on_batch_end() is slow compared to the batch update (0.333605). Check your callbacks.\n",
      "73600/77922 [===========================>..] - ETA: 30s - loss: 0.6777 - acc: 0.5709WARNING:tensorflow:Method on_batch_end() is slow compared to the batch update (0.295644). Check your callbacks.\n",
      "73664/77922 [===========================>..] - ETA: 30s - loss: 0.6776 - acc: 0.5710WARNING:tensorflow:Method on_batch_end() is slow compared to the batch update (0.295644). Check your callbacks.\n",
      "73728/77922 [===========================>..] - ETA: 29s - loss: 0.6776 - acc: 0.5710WARNING:tensorflow:Method on_batch_end() is slow compared to the batch update (0.292243). Check your callbacks.\n",
      "73856/77922 [===========================>..] - ETA: 28s - loss: 0.6776 - acc: 0.5713WARNING:tensorflow:Method on_batch_end() is slow compared to the batch update (0.292243). Check your callbacks.\n",
      "73920/77922 [===========================>..] - ETA: 28s - loss: 0.6776 - acc: 0.5713WARNING:tensorflow:Method on_batch_end() is slow compared to the batch update (0.292243). Check your callbacks.\n"
     ]
    },
    {
     "name": "stdout",
     "output_type": "stream",
     "text": [
      "73984/77922 [===========================>..] - ETA: 27s - loss: 0.6776 - acc: 0.5713WARNING:tensorflow:Method on_batch_end() is slow compared to the batch update (0.292243). Check your callbacks.\n",
      "74112/77922 [===========================>..] - ETA: 27s - loss: 0.6776 - acc: 0.5713WARNING:tensorflow:Method on_batch_end() is slow compared to the batch update (0.292243). Check your callbacks.\n",
      "74432/77922 [===========================>..] - ETA: 24s - loss: 0.6775 - acc: 0.5714WARNING:tensorflow:Method on_batch_end() is slow compared to the batch update (0.283795). Check your callbacks.\n",
      "74496/77922 [===========================>..] - ETA: 24s - loss: 0.6775 - acc: 0.5714WARNING:tensorflow:Method on_batch_end() is slow compared to the batch update (0.283795). Check your callbacks.\n",
      "74560/77922 [===========================>..] - ETA: 23s - loss: 0.6775 - acc: 0.5714WARNING:tensorflow:Method on_batch_end() is slow compared to the batch update (0.281625). Check your callbacks.\n",
      "74816/77922 [===========================>..] - ETA: 22s - loss: 0.6775 - acc: 0.5713WARNING:tensorflow:Method on_batch_end() is slow compared to the batch update (0.297453). Check your callbacks.\n",
      "74880/77922 [===========================>..] - ETA: 21s - loss: 0.6776 - acc: 0.5713WARNING:tensorflow:Method on_batch_end() is slow compared to the batch update (0.297453). Check your callbacks.\n",
      "74944/77922 [===========================>..] - ETA: 21s - loss: 0.6776 - acc: 0.5713WARNING:tensorflow:Method on_batch_end() is slow compared to the batch update (0.297453). Check your callbacks.\n",
      "75072/77922 [===========================>..] - ETA: 20s - loss: 0.6775 - acc: 0.5715WARNING:tensorflow:Method on_batch_end() is slow compared to the batch update (0.297453). Check your callbacks.\n",
      "76032/77922 [============================>.] - ETA: 13s - loss: 0.6775 - acc: 0.5714WARNING:tensorflow:Method on_batch_end() is slow compared to the batch update (0.293416). Check your callbacks.\n",
      "76096/77922 [============================>.] - ETA: 13s - loss: 0.6775 - acc: 0.5714WARNING:tensorflow:Method on_batch_end() is slow compared to the batch update (0.278330). Check your callbacks.\n",
      "76160/77922 [============================>.] - ETA: 12s - loss: 0.6775 - acc: 0.5715WARNING:tensorflow:Method on_batch_end() is slow compared to the batch update (0.293416). Check your callbacks.\n",
      "76224/77922 [============================>.] - ETA: 12s - loss: 0.6775 - acc: 0.5715WARNING:tensorflow:Method on_batch_end() is slow compared to the batch update (0.293416). Check your callbacks.\n",
      "76288/77922 [============================>.] - ETA: 11s - loss: 0.6775 - acc: 0.5715WARNING:tensorflow:Method on_batch_end() is slow compared to the batch update (0.278330). Check your callbacks.\n",
      "76928/77922 [============================>.] - ETA: 7s - loss: 0.6774 - acc: 0.5716WARNING:tensorflow:Method on_batch_end() is slow compared to the batch update (0.307078). Check your callbacks.\n",
      "77922/77922 [==============================] - 566s 7ms/step - loss: 0.6774 - acc: 0.5717 - val_loss: 0.6757 - val_acc: 0.5767\n",
      "Epoch 7/10\n",
      " 5952/77922 [=>............................] - ETA: 8:48 - loss: 0.6752 - acc: 0.5749WARNING:tensorflow:Method on_batch_end() is slow compared to the batch update (0.294889). Check your callbacks.\n",
      " 6080/77922 [=>............................] - ETA: 8:51 - loss: 0.6751 - acc: 0.5753WARNING:tensorflow:Method on_batch_end() is slow compared to the batch update (0.310779). Check your callbacks.\n",
      " 6144/77922 [=>............................] - ETA: 8:52 - loss: 0.6753 - acc: 0.5750WARNING:tensorflow:Method on_batch_end() is slow compared to the batch update (0.307181). Check your callbacks.\n",
      " 6208/77922 [=>............................] - ETA: 8:53 - loss: 0.6749 - acc: 0.5759WARNING:tensorflow:Method on_batch_end() is slow compared to the batch update (0.307181). Check your callbacks.\n",
      " 6272/77922 [=>............................] - ETA: 8:53 - loss: 0.6750 - acc: 0.5751WARNING:tensorflow:Method on_batch_end() is slow compared to the batch update (0.294889). Check your callbacks.\n",
      " 6400/77922 [=>............................] - ETA: 8:50 - loss: 0.6746 - acc: 0.5755WARNING:tensorflow:Method on_batch_end() is slow compared to the batch update (0.292656). Check your callbacks.\n",
      " 6464/77922 [=>............................] - ETA: 8:48 - loss: 0.6747 - acc: 0.5755WARNING:tensorflow:Method on_batch_end() is slow compared to the batch update (0.276160). Check your callbacks.\n",
      "77922/77922 [==============================] - 451s 6ms/step - loss: 0.6747 - acc: 0.5756 - val_loss: 0.6756 - val_acc: 0.5751\n",
      "Epoch 8/10\n",
      "77922/77922 [==============================] - 424s 5ms/step - loss: 0.6727 - acc: 0.5803 - val_loss: 0.6759 - val_acc: 0.5782\n",
      "Epoch 9/10\n",
      "77922/77922 [==============================] - 422s 5ms/step - loss: 0.6684 - acc: 0.5890 - val_loss: 0.6769 - val_acc: 0.5749\n",
      "Epoch 10/10\n",
      "77922/77922 [==============================] - 423s 5ms/step - loss: 0.6646 - acc: 0.5955 - val_loss: 0.6855 - val_acc: 0.5658\n"
     ]
    }
   ],
   "source": [
    "# Train model\n",
    "history = model.fit(\n",
    "    train_x, train_y,\n",
    "    batch_size=BATCH_SIZE,\n",
    "    epochs=EPOCHS,\n",
    "    validation_data=(validation_x, validation_y),\n",
    "    callbacks=[tensorboard, checkpoint],\n",
    ")"
   ]
  },
  {
   "cell_type": "markdown",
   "metadata": {},
   "source": [
    "Run evaluations:"
   ]
  },
  {
   "cell_type": "code",
   "execution_count": 43,
   "metadata": {},
   "outputs": [
    {
     "name": "stdout",
     "output_type": "stream",
     "text": [
      "Test loss: 0.6855479123061186\n",
      "Test accuracy: 0.5658031089318231\n"
     ]
    }
   ],
   "source": [
    "# Score model\n",
    "score = model.evaluate(validation_x, validation_y, verbose=0)\n",
    "print('Test loss:', score[0])\n",
    "print('Test accuracy:', score[1])\n",
    "# Save model\n",
    "model.save(\"models/{}\".format(NAME))"
   ]
  }
 ],
 "metadata": {
  "kernelspec": {
   "display_name": "Python 3",
   "language": "python",
   "name": "python3"
  },
  "language_info": {
   "codemirror_mode": {
    "name": "ipython",
    "version": 3
   },
   "file_extension": ".py",
   "mimetype": "text/x-python",
   "name": "python",
   "nbconvert_exporter": "python",
   "pygments_lexer": "ipython3",
   "version": "3.6.5"
  }
 },
 "nbformat": 4,
 "nbformat_minor": 2
}
