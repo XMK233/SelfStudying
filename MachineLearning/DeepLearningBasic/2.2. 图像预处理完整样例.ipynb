{
 "cells": [
  {
   "cell_type": "code",
   "execution_count": 4,
   "metadata": {},
   "outputs": [],
   "source": [
    "import tensorflow as tf\n",
    "import numpy as np\n",
    "import matplotlib.pyplot as plt"
   ]
  },
  {
   "cell_type": "markdown",
   "metadata": {},
   "source": [
    "#### 1. 随机调整图片的色彩，定义两种顺序。"
   ]
  },
  {
   "cell_type": "code",
   "execution_count": 5,
   "metadata": {},
   "outputs": [],
   "source": [
    "def distort_color(image, color_ordering=0):\n",
    "    if color_ordering == 0:\n",
    "        image = tf.image.random_brightness(image, max_delta=32./255.)\n",
    "        image = tf.image.random_saturation(image, lower=0.5, upper=1.5)\n",
    "        image = tf.image.random_hue(image, max_delta=0.2)\n",
    "        image = tf.image.random_contrast(image, lower=0.5, upper=1.5)\n",
    "    else:\n",
    "        image = tf.image.random_saturation(image, lower=0.5, upper=1.5)\n",
    "        image = tf.image.random_brightness(image, max_delta=32./255.)\n",
    "        image = tf.image.random_contrast(image, lower=0.5, upper=1.5)\n",
    "        image = tf.image.random_hue(image, max_delta=0.2)\n",
    "\n",
    "    return tf.clip_by_value(image, 0.0, 1.0)"
   ]
  },
  {
   "cell_type": "markdown",
   "metadata": {},
   "source": [
    "#### 2. 对图片进行预处理，将图片转化成神经网络的输入层数据。"
   ]
  },
  {
   "cell_type": "code",
   "execution_count": 6,
   "metadata": {},
   "outputs": [],
   "source": [
    "def preprocess_for_train(image, height, width, bbox):\n",
    "    # 查看是否存在标注框。\n",
    "#     if bbox is None:\n",
    "#         bbox = tf.constant([0.0, 0.0, 1.0, 1.0], dtype=tf.float32, shape=[1, 1, 4])\n",
    "    if image.dtype != tf.float32:\n",
    "        image = tf.image.convert_image_dtype(image, dtype=tf.float32)\n",
    "        \n",
    "    # 随机的截取图片中一个块。\n",
    "#     bbox_begin, bbox_size, _ = tf.image.sample_distorted_bounding_box(\n",
    "#         tf.shape(image), bounding_boxes=bbox, min_object_covered=0.4)\n",
    "#     bbox_begin, bbox_size, _ = tf.image.sample_distorted_bounding_box(\n",
    "#         tf.shape(image), bounding_boxes=bbox, min_object_covered=0.4)\n",
    "#     distorted_image = tf.slice(image, bbox_begin, bbox_size)\n",
    "\n",
    "    # 将随机截取的图片调整为神经网络输入层的大小。\n",
    "    distorted_image = tf.image.resize_images(image, [height, width], method=np.random.randint(4))\n",
    "    \n",
    "    #图片的其他调整\n",
    "    #distorted_image = tf.image.random_flip_left_right(distorted_image)\n",
    "    #distorted_image = distort_color(distorted_image, np.random.randint(2))\n",
    "    return distorted_image"
   ]
  },
  {
   "cell_type": "markdown",
   "metadata": {},
   "source": [
    "#### 3. 读取图片。"
   ]
  },
  {
   "cell_type": "code",
   "execution_count": 10,
   "metadata": {},
   "outputs": [],
   "source": [
    "import os\n",
    "images = []\n",
    "for fname in os.listdir(\"images/ba_ji_quan\"):\n",
    "#     print(fname)\n",
    "    image_raw_data = tf.gfile.FastGFile(\"images/ba_ji_quan/{}\".format(fname), \"rb\").read()\n",
    "    with tf.Session() as sess:\n",
    "        img_data = tf.image.decode_jpeg(image_raw_data)\n",
    "        #boxes = tf.constant([[[0.05, 0.05, 0.9, 0.7], [0.35, 0.47, 0.5, 0.56]]])\n",
    "        #for i in range(9):\n",
    "        result = preprocess_for_train(img_data, 299, 299, None)#, boxes\n",
    "        images.append(result)\n",
    "#         plt.imshow(result.eval())\n",
    "#         plt.show()\n"
   ]
  },
  {
   "cell_type": "code",
   "execution_count": 24,
   "metadata": {},
   "outputs": [],
   "source": [
    "import tensorflow_hub as hub\n",
    "module = hub.Module(\"https://tfhub.dev/google/imagenet/inception_resnet_v2/classification/1\")"
   ]
  },
  {
   "cell_type": "code",
   "execution_count": 26,
   "metadata": {},
   "outputs": [
    {
     "name": "stdout",
     "output_type": "stream",
     "text": [
      "INFO:tensorflow:Saver not created because there are no variables in the graph to restore\n"
     ]
    },
    {
     "name": "stderr",
     "output_type": "stream",
     "text": [
      "I0425 21:35:08.154904 10232 tf_logging.py:115] Saver not created because there are no variables in the graph to restore\n"
     ]
    }
   ],
   "source": [
    "features = module(images)"
   ]
  },
  {
   "cell_type": "code",
   "execution_count": null,
   "metadata": {},
   "outputs": [],
   "source": []
  }
 ],
 "metadata": {
  "kernelspec": {
   "display_name": "Python 3",
   "language": "python",
   "name": "python3"
  },
  "language_info": {
   "codemirror_mode": {
    "name": "ipython",
    "version": 3
   },
   "file_extension": ".py",
   "mimetype": "text/x-python",
   "name": "python",
   "nbconvert_exporter": "python",
   "pygments_lexer": "ipython3",
   "version": "3.6.8"
  }
 },
 "nbformat": 4,
 "nbformat_minor": 1
}
