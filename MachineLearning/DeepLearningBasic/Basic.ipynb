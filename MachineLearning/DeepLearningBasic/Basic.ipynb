{
 "cells": [
  {
   "cell_type": "markdown",
   "metadata": {},
   "source": [
    "# change and save images"
   ]
  },
  {
   "cell_type": "markdown",
   "metadata": {},
   "source": [
    "most important: \n",
    "* cv2.imread(..., cv.IMREAD_GRAYSCALE)"
   ]
  },
  {
   "cell_type": "code",
   "execution_count": 23,
   "metadata": {},
   "outputs": [],
   "source": [
    "import numpy as np\n",
    "import matplotlib.pyplot as plt\n",
    "import os\n",
    "import cv2\n",
    "from tqdm import tqdm\n",
    "\n",
    "image_dir = r\"J:\\SelfStudying\\MachineLearning\\DeepLearningBasic\\images\"\n",
    "CATEGORIES = [\"daisy\", \"dandelion\"]\n",
    "IMAGE_SIZE = 50\n",
    "train_data = []\n",
    "\n",
    "for c in CATEGORIES: \n",
    "    c_dir = os.path.join(image_dir, c)\n",
    "    for image_name in os.listdir(c_dir):\n",
    "        image_path = os.path.join(c_dir, image_name)\n",
    "        image = cv2.imread(image_path, cv2.IMREAD_GRAYSCALE)\n",
    "#         plt.imshow(image)\n",
    "#         plt.show()\n",
    "#         break\n",
    "        array = cv2.resize(image, (IMAGE_SIZE, IMAGE_SIZE))\n",
    "        index = CATEGORIES.index(c)\n",
    "        train_data.append([array, index])\n",
    "\n",
    "import random\n",
    "random.shuffle(train_data)\n",
    "\n",
    "import pickle\n",
    "X = []\n",
    "y = []\n",
    "for array, index in train_data:\n",
    "    X.append(array)\n",
    "    y.append(y)\n",
    "X = np.array(X).reshape(-1, IMAGE_SIZE, IMAGE_SIZE, 1)\n",
    "with open(\"X.pickle\", \"wb\") as f1:\n",
    "    pickle.dump(X, f1)\n",
    "with open(\"y.pickle\", \"wb\") as f2:\n",
    "    pickle.dump(y, f2)"
   ]
  },
  {
   "cell_type": "markdown",
   "metadata": {},
   "source": [
    "# build and save models"
   ]
  },
  {
   "cell_type": "code",
   "execution_count": 24,
   "metadata": {},
   "outputs": [],
   "source": [
    "import pickle\n",
    "with open(\"X.pickle\", \"rb\") as f:\n",
    "    X = pickle.load(f)\n",
    "with open(\"y.pickle\", \"rb\") as f:\n",
    "    y = pickle.load(f)\n",
    "\n",
    "X = X/255.0"
   ]
  },
  {
   "cell_type": "code",
   "execution_count": 25,
   "metadata": {},
   "outputs": [
    {
     "data": {
      "text/plain": [
       "(1531, 50, 50, 1)"
      ]
     },
     "execution_count": 25,
     "metadata": {},
     "output_type": "execute_result"
    }
   ],
   "source": [
    "X.shape"
   ]
  },
  {
   "cell_type": "code",
   "execution_count": null,
   "metadata": {},
   "outputs": [],
   "source": [
    "import tensorflow as tf\n",
    "from tensorflow.keras.models import Sequential\n",
    "from tensorflow.keras.layers import Dense, Dropout, Activation, Flatten\n",
    "from tensorflow.keras.layers import Conv2D, MaxPooling2D\n",
    "from tensorflow.keras.callbacks import TensorBoard\n",
    "\n",
    "NAME = \"2conv-1flatten-1dense\"\n",
    "\n",
    "model = Sequential()\n",
    "\n",
    "model.add(Conv2D(256, (3, 3), input_shape= X.shape[1:]))\n",
    "model.add(Activation(\"relu\"))\n",
    "model.add(MaxPooling2D(pool_size= (2, 2)))\n",
    "\n",
    "model.add(Conv2D(256, (3, 3)))\n",
    "model.add(Activation(\"relu\"))\n",
    "model.add(MaxPooling2D(pool_size= (2, 2)))\n",
    "\n",
    "model.add(Flatten())\n",
    "\n",
    "model.add(Dense(64))\n",
    "\n",
    "model.add(Dense(1))\n",
    "model.add(Activation(\"sigmoid\"))\n",
    "\n",
    "tensorboard = TensorBoard(log_dir=\"logs/{}\".format(NAME))\n",
    "\n",
    "model.compile(loss= \"binary_crossentropy\", \n",
    "            optimizer= \"adam\", \n",
    "              metrics= [\"accuracy\"], \n",
    "              callbacks= [tensorboard]\n",
    "             )\n",
    "\n",
    "model.fit(X, y, batch_size= 32, epochs= 3, validation_split= 0.3)\n",
    "\n",
    "model.save(\"CNN.model\")"
   ]
  },
  {
   "cell_type": "markdown",
   "metadata": {},
   "source": [
    "# inference with new images"
   ]
  },
  {
   "cell_type": "code",
   "execution_count": null,
   "metadata": {},
   "outputs": [],
   "source": [
    "image_infer_path = \"infer_images.jpg\"\n",
    "\n",
    "def prepare(path):\n",
    "    array = cv2.imread(path, cv2.IMREAD_GRAYSCALE)\n",
    "    new_array = cv2.resize(array, (IMAGE_SIZE, IMAGE_SIZE))\n",
    "    return new_array.reshape(-1, IMAGE_SIZE, IMAGE_SIZE, 1)\n",
    "\n",
    "model = tf.keras.models.load_model(\"CNN.model\")\n",
    "r = model.predict([prepare(image_infer_path)])\n",
    "print(CATEGORIES[int(r)])"
   ]
  }
 ],
 "metadata": {
  "kernelspec": {
   "display_name": "Python 3",
   "language": "python",
   "name": "python3"
  },
  "language_info": {
   "codemirror_mode": {
    "name": "ipython",
    "version": 3
   },
   "file_extension": ".py",
   "mimetype": "text/x-python",
   "name": "python",
   "nbconvert_exporter": "python",
   "pygments_lexer": "ipython3",
   "version": "3.6.5"
  }
 },
 "nbformat": 4,
 "nbformat_minor": 2
}
