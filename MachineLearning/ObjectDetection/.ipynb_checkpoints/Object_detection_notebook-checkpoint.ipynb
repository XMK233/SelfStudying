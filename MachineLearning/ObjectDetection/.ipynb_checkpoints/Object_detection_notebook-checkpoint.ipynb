{
 "cells": [
  {
   "cell_type": "code",
   "execution_count": 1,
   "metadata": {},
   "outputs": [
    {
     "name": "stdout",
     "output_type": "stream",
     "text": [
      "Requirement already satisfied: pillow in c:\\users\\xmk233\\anaconda3\\lib\\site-packages (5.1.0)\n"
     ]
    },
    {
     "name": "stderr",
     "output_type": "stream",
     "text": [
      "You are using pip version 19.0.3, however version 19.1.1 is available.\n",
      "You should consider upgrading via the 'python -m pip install --upgrade pip' command.\n"
     ]
    },
    {
     "name": "stdout",
     "output_type": "stream",
     "text": [
      "Requirement already satisfied: lxml in c:\\users\\xmk233\\anaconda3\\lib\\site-packages (4.2.1)\n"
     ]
    },
    {
     "name": "stderr",
     "output_type": "stream",
     "text": [
      "You are using pip version 19.0.3, however version 19.1.1 is available.\n",
      "You should consider upgrading via the 'python -m pip install --upgrade pip' command.\n"
     ]
    },
    {
     "name": "stdout",
     "output_type": "stream",
     "text": [
      "Requirement already satisfied: jupyter in c:\\users\\xmk233\\anaconda3\\lib\\site-packages (1.0.0)\n",
      "Requirement already satisfied: notebook in c:\\users\\xmk233\\anaconda3\\lib\\site-packages (from jupyter) (5.5.0)\n",
      "Requirement already satisfied: qtconsole in c:\\users\\xmk233\\anaconda3\\lib\\site-packages (from jupyter) (4.3.1)\n",
      "Requirement already satisfied: jupyter-console in c:\\users\\xmk233\\anaconda3\\lib\\site-packages (from jupyter) (5.2.0)\n",
      "Requirement already satisfied: nbconvert in c:\\users\\xmk233\\anaconda3\\lib\\site-packages (from jupyter) (5.3.1)\n",
      "Requirement already satisfied: ipykernel in c:\\users\\xmk233\\anaconda3\\lib\\site-packages (from jupyter) (4.8.2)\n",
      "Requirement already satisfied: ipywidgets in c:\\users\\xmk233\\anaconda3\\lib\\site-packages (from jupyter) (7.2.1)\n",
      "Requirement already satisfied: jinja2 in c:\\users\\xmk233\\anaconda3\\lib\\site-packages (from notebook->jupyter) (2.10)\n",
      "Requirement already satisfied: traitlets>=4.2.1 in c:\\users\\xmk233\\anaconda3\\lib\\site-packages (from notebook->jupyter) (4.3.2)\n",
      "Requirement already satisfied: nbformat in c:\\users\\xmk233\\anaconda3\\lib\\site-packages (from notebook->jupyter) (4.4.0)\n",
      "Requirement already satisfied: terminado>=0.8.1 in c:\\users\\xmk233\\anaconda3\\lib\\site-packages (from notebook->jupyter) (0.8.1)\n",
      "Requirement already satisfied: jupyter-client>=5.2.0 in c:\\users\\xmk233\\anaconda3\\lib\\site-packages (from notebook->jupyter) (5.2.3)\n",
      "Requirement already satisfied: tornado>=4 in c:\\users\\xmk233\\anaconda3\\lib\\site-packages (from notebook->jupyter) (5.0.2)\n",
      "Requirement already satisfied: Send2Trash in c:\\users\\xmk233\\anaconda3\\lib\\site-packages (from notebook->jupyter) (1.5.0)\n",
      "Requirement already satisfied: ipython-genutils in c:\\users\\xmk233\\anaconda3\\lib\\site-packages (from notebook->jupyter) (0.2.0)\n",
      "Requirement already satisfied: pyzmq>=17 in c:\\users\\xmk233\\anaconda3\\lib\\site-packages (from notebook->jupyter) (17.0.0)\n",
      "Requirement already satisfied: jupyter-core>=4.4.0 in c:\\users\\xmk233\\anaconda3\\lib\\site-packages (from notebook->jupyter) (4.4.0)\n",
      "Requirement already satisfied: ipython in c:\\users\\xmk233\\anaconda3\\lib\\site-packages (from jupyter-console->jupyter) (6.4.0)\n",
      "Requirement already satisfied: prompt_toolkit<2.0.0,>=1.0.0 in c:\\users\\xmk233\\anaconda3\\lib\\site-packages (from jupyter-console->jupyter) (1.0.15)\n",
      "Requirement already satisfied: pygments in c:\\users\\xmk233\\anaconda3\\lib\\site-packages (from jupyter-console->jupyter) (2.2.0)\n",
      "Requirement already satisfied: mistune>=0.7.4 in c:\\users\\xmk233\\anaconda3\\lib\\site-packages (from nbconvert->jupyter) (0.8.3)\n",
      "Requirement already satisfied: entrypoints>=0.2.2 in c:\\users\\xmk233\\anaconda3\\lib\\site-packages (from nbconvert->jupyter) (0.2.3)\n",
      "Requirement already satisfied: bleach in c:\\users\\xmk233\\anaconda3\\lib\\site-packages (from nbconvert->jupyter) (2.1.3)\n",
      "Requirement already satisfied: pandocfilters>=1.4.1 in c:\\users\\xmk233\\anaconda3\\lib\\site-packages (from nbconvert->jupyter) (1.4.2)\n",
      "Requirement already satisfied: testpath in c:\\users\\xmk233\\anaconda3\\lib\\site-packages (from nbconvert->jupyter) (0.3.1)\n",
      "Requirement already satisfied: widgetsnbextension~=3.2.0 in c:\\users\\xmk233\\anaconda3\\lib\\site-packages (from ipywidgets->jupyter) (3.2.1)\n",
      "Requirement already satisfied: MarkupSafe>=0.23 in c:\\users\\xmk233\\anaconda3\\lib\\site-packages (from jinja2->notebook->jupyter) (1.0)\n",
      "Requirement already satisfied: six in c:\\users\\xmk233\\anaconda3\\lib\\site-packages (from traitlets>=4.2.1->notebook->jupyter) (1.11.0)\n",
      "Requirement already satisfied: decorator in c:\\users\\xmk233\\anaconda3\\lib\\site-packages (from traitlets>=4.2.1->notebook->jupyter) (4.3.0)\n",
      "Requirement already satisfied: jsonschema!=2.5.0,>=2.4 in c:\\users\\xmk233\\anaconda3\\lib\\site-packages (from nbformat->notebook->jupyter) (2.6.0)\n",
      "Requirement already satisfied: python-dateutil>=2.1 in c:\\users\\xmk233\\anaconda3\\lib\\site-packages (from jupyter-client>=5.2.0->notebook->jupyter) (2.7.3)\n",
      "Requirement already satisfied: jedi>=0.10 in c:\\users\\xmk233\\anaconda3\\lib\\site-packages (from ipython->jupyter-console->jupyter) (0.12.0)\n",
      "Requirement already satisfied: setuptools>=18.5 in c:\\users\\xmk233\\anaconda3\\lib\\site-packages (from ipython->jupyter-console->jupyter) (39.1.0)\n",
      "Requirement already satisfied: backcall in c:\\users\\xmk233\\anaconda3\\lib\\site-packages (from ipython->jupyter-console->jupyter) (0.1.0)\n",
      "Requirement already satisfied: colorama; sys_platform == \"win32\" in c:\\users\\xmk233\\anaconda3\\lib\\site-packages (from ipython->jupyter-console->jupyter) (0.3.9)\n",
      "Requirement already satisfied: pickleshare in c:\\users\\xmk233\\anaconda3\\lib\\site-packages (from ipython->jupyter-console->jupyter) (0.7.4)\n",
      "Requirement already satisfied: simplegeneric>0.8 in c:\\users\\xmk233\\anaconda3\\lib\\site-packages (from ipython->jupyter-console->jupyter) (0.8.1)\n",
      "Requirement already satisfied: wcwidth in c:\\users\\xmk233\\anaconda3\\lib\\site-packages (from prompt_toolkit<2.0.0,>=1.0.0->jupyter-console->jupyter) (0.1.7)\n",
      "Requirement already satisfied: html5lib!=1.0b1,!=1.0b2,!=1.0b3,!=1.0b4,!=1.0b5,!=1.0b6,!=1.0b7,!=1.0b8,>=0.99999999pre in c:\\users\\xmk233\\anaconda3\\lib\\site-packages (from bleach->nbconvert->jupyter) (1.0.1)\n",
      "Requirement already satisfied: parso>=0.2.0 in c:\\users\\xmk233\\anaconda3\\lib\\site-packages (from jedi>=0.10->ipython->jupyter-console->jupyter) (0.2.0)\n",
      "Requirement already satisfied: webencodings in c:\\users\\xmk233\\anaconda3\\lib\\site-packages (from html5lib!=1.0b1,!=1.0b2,!=1.0b3,!=1.0b4,!=1.0b5,!=1.0b6,!=1.0b7,!=1.0b8,>=0.99999999pre->bleach->nbconvert->jupyter) (0.5.1)\n"
     ]
    },
    {
     "name": "stderr",
     "output_type": "stream",
     "text": [
      "You are using pip version 19.0.3, however version 19.1.1 is available.\n",
      "You should consider upgrading via the 'python -m pip install --upgrade pip' command.\n"
     ]
    },
    {
     "name": "stdout",
     "output_type": "stream",
     "text": [
      "Requirement already satisfied: matplotlib in c:\\users\\xmk233\\anaconda3\\lib\\site-packages (2.2.2)\n",
      "Requirement already satisfied: numpy>=1.7.1 in c:\\users\\xmk233\\anaconda3\\lib\\site-packages (from matplotlib) (1.14.3)\n",
      "Requirement already satisfied: cycler>=0.10 in c:\\users\\xmk233\\anaconda3\\lib\\site-packages (from matplotlib) (0.10.0)\n",
      "Requirement already satisfied: pyparsing!=2.0.4,!=2.1.2,!=2.1.6,>=2.0.1 in c:\\users\\xmk233\\anaconda3\\lib\\site-packages (from matplotlib) (2.2.0)\n",
      "Requirement already satisfied: python-dateutil>=2.1 in c:\\users\\xmk233\\anaconda3\\lib\\site-packages (from matplotlib) (2.7.3)\n",
      "Requirement already satisfied: pytz in c:\\users\\xmk233\\anaconda3\\lib\\site-packages (from matplotlib) (2018.4)\n",
      "Requirement already satisfied: six>=1.10 in c:\\users\\xmk233\\anaconda3\\lib\\site-packages (from matplotlib) (1.11.0)\n",
      "Requirement already satisfied: kiwisolver>=1.0.1 in c:\\users\\xmk233\\anaconda3\\lib\\site-packages (from matplotlib) (1.0.1)\n",
      "Requirement already satisfied: setuptools in c:\\users\\xmk233\\anaconda3\\lib\\site-packages (from kiwisolver>=1.0.1->matplotlib) (39.1.0)\n"
     ]
    },
    {
     "name": "stderr",
     "output_type": "stream",
     "text": [
      "You are using pip version 19.0.3, however version 19.1.1 is available.\n",
      "You should consider upgrading via the 'python -m pip install --upgrade pip' command.\n"
     ]
    }
   ],
   "source": [
    "!pip install pillow\n",
    "!pip install lxml\n",
    "!pip install jupyter\n",
    "!pip install matplotlib"
   ]
  },
  {
   "cell_type": "code",
   "execution_count": null,
   "metadata": {},
   "outputs": [],
   "source": [
    "!git clone https://github.com/tensorflow/models.git"
   ]
  }
 ],
 "metadata": {
  "kernelspec": {
   "display_name": "Python 3",
   "language": "python",
   "name": "python3"
  },
  "language_info": {
   "codemirror_mode": {
    "name": "ipython",
    "version": 3
   },
   "file_extension": ".py",
   "mimetype": "text/x-python",
   "name": "python",
   "nbconvert_exporter": "python",
   "pygments_lexer": "ipython3",
   "version": "3.6.5"
  }
 },
 "nbformat": 4,
 "nbformat_minor": 2
}
