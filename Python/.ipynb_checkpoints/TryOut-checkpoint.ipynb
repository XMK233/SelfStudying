{
 "cells": [
  {
   "cell_type": "code",
   "execution_count": 4,
   "metadata": {},
   "outputs": [
    {
     "data": {
      "text/plain": [
       "1.8000000000000007"
      ]
     },
     "execution_count": 4,
     "metadata": {},
     "output_type": "execute_result"
    }
   ],
   "source": [
    "## 浮点数求余:在python3 的情况下是可以的。但是具体原理还没搞懂。\n",
    "a = 12.0\n",
    "b = 5.1\n",
    "a % b"
   ]
  },
  {
   "cell_type": "markdown",
   "metadata": {},
   "source": [
    "-------------------------------------"
   ]
  },
  {
   "cell_type": "code",
   "execution_count": 8,
   "metadata": {},
   "outputs": [
    {
     "name": "stdout",
     "output_type": "stream",
     "text": [
      "[68, 79, 76, 99, 78, 83, 74, 87, 0, 35, 87, 23, 23, 11, 71, 8, 13, 43, 11, 99]\n",
      "[87, 79, 78, 99, 76, 83, 74, 87, 71, 35, 68, 23, 23, 11, 13, 8, 11, 43, 0, 99]\n"
     ]
    }
   ],
   "source": [
    "import random\n",
    "x = [random.randint(0, 100) for i in range(20)]\n",
    "print(x)\n",
    "y = x[::2]\n",
    "y.sort(reverse=True)\n",
    "x[::2] = y\n",
    "print(x)"
   ]
  },
  {
   "cell_type": "code",
   "execution_count": 3,
   "metadata": {
    "scrolled": true
   },
   "outputs": [
    {
     "name": "stdout",
     "output_type": "stream",
     "text": [
      "[76, 100, 23, 91, 20, 34, 38, 85, 29, 13]\n",
      "[100, 23, 91, 20, 34, 38, 85, 29, 13]\n"
     ]
    }
   ],
   "source": [
    "import random\n",
    "x = [random.randint(0, 100) for i in range(10)]\n",
    "print(x)\n",
    "\n",
    "del(x[0])\n",
    "print(x)"
   ]
  },
  {
   "cell_type": "code",
   "execution_count": 8,
   "metadata": {},
   "outputs": [
    {
     "data": {
      "text/plain": [
       "'no such an element'"
      ]
     },
     "execution_count": 8,
     "metadata": {},
     "output_type": "execute_result"
    }
   ],
   "source": [
    "a = [1, 2, 3]\n",
    "b = [\"a\", \"b\", \"c\"]\n",
    "tt = dict(zip(a, b))\n",
    "tt.get(\"d\", \"no such an element\")"
   ]
  },
  {
   "cell_type": "code",
   "execution_count": 12,
   "metadata": {},
   "outputs": [
    {
     "name": "stdout",
     "output_type": "stream",
     "text": [
      "[2, 3, 4]\n"
     ]
    }
   ],
   "source": [
    "heheda = [1,2,3,4,5,6,7,8,9,0]\n",
    "print(heheda[1:3 + 1])"
   ]
  },
  {
   "cell_type": "code",
   "execution_count": 7,
   "metadata": {},
   "outputs": [
    {
     "name": "stdout",
     "output_type": "stream",
     "text": [
      "nimabi\n"
     ]
    }
   ],
   "source": [
    "pp = 0\n",
    "eval(\"print('nimabi')\")"
   ]
  },
  {
   "cell_type": "code",
   "execution_count": 9,
   "metadata": {},
   "outputs": [],
   "source": [
    "import sys\n",
    "\n",
    "if sys.platform == 'win32':\n",
    "    import winsound\n",
    "    winsound.Beep(500,1000)\n",
    "else:\n",
    "    print(\"\\a\")"
   ]
  },
  {
   "cell_type": "markdown",
   "metadata": {},
   "source": [
    "## Test the file.flush()\n",
    "发现一个好处，就是我的爬虫有的时候会很长，然后要等待信息写入到文件中，得等好久，或许要等到所有的write都完成了再写进去，或者说缓存区满了才会写入。如果调用了flush，你就会发现，每flush一次，文档里面就会多一点新内容。这给我的启发就是__可以在一段时间，比如循环100次之后，flush一次，这样就会把一部分的内容写入到文件中__。"
   ]
  },
  {
   "cell_type": "code",
   "execution_count": null,
   "metadata": {},
   "outputs": [],
   "source": [
    "import time\n",
    "with open(\"test_output.txt\", \"w\") as to:\n",
    "    for i in range(3000):\n",
    "        time.sleep(10)\n",
    "        to.write(\"heheda {}\\n\".format(i))\n",
    "        print(\"writed\")\n",
    "#         to.flush()"
   ]
  },
  {
   "cell_type": "markdown",
   "metadata": {},
   "source": [
    "## Lets' use walk through: \n",
    "我其实有自己的套路，也就是用os.listdir()。这种东西有其局限性，也就是它不会递归地查下去。"
   ]
  },
  {
   "cell_type": "code",
   "execution_count": 3,
   "metadata": {},
   "outputs": [
    {
     "name": "stdout",
     "output_type": "stream",
     "text": [
      "heheda/ ['kengdie', 'nima'] []\n",
      "\n",
      "heheda/kengdie ['ahaha', 'oho'] []\n",
      "\n",
      "heheda/kengdie\\ahaha [] []\n",
      "\n",
      "heheda/kengdie\\oho [] ['ahahah.txt']\n",
      "\n",
      "heheda/nima [] ['wolege.txt']\n",
      "\n"
     ]
    }
   ],
   "source": [
    "import os\n",
    "paths = os.walk(\"heheda/\")\n",
    "for (root, dirs, files) in paths: \n",
    "    print(root, dirs, files)\n",
    "    print()"
   ]
  },
  {
   "cell_type": "markdown",
   "metadata": {},
   "source": [
    "## 逻辑运算符"
   ]
  },
  {
   "cell_type": "code",
   "execution_count": 14,
   "metadata": {},
   "outputs": [
    {
     "data": {
      "text/plain": [
       "False"
      ]
     },
     "execution_count": 14,
     "metadata": {},
     "output_type": "execute_result"
    }
   ],
   "source": [
    "a = 1\n",
    "b = \"callable\"\n",
    "not a"
   ]
  },
  {
   "cell_type": "markdown",
   "metadata": {},
   "source": [
    "## 装饰器"
   ]
  },
  {
   "cell_type": "code",
   "execution_count": 18,
   "metadata": {},
   "outputs": [],
   "source": [
    "def 孙悟空():\n",
    "  print('吃桃子')\n",
    "# 孙悟空()\n",
    "\n",
    "def 吃嘛枣药丸(abc):\n",
    "    def 炼丹炉(func): # func就是‘孙悟空’这个函数\n",
    "      def 变身(*args, **kwargs): #*args, **kwargs就是‘孙悟空’的参数列表，这里的‘孙悟空’函数没有传参数，我们写上也不影响，建议都写上  \n",
    "          print(f'有火眼金睛了 {abc}') # 加特效，增加新功能，比如孙悟空的进了炼丹炉后，有了火眼金睛技能  \n",
    "          return func(*args, **kwargs) #保留原来的功能，原来孙悟空的技能，如吃桃子\n",
    "      return 变身 # 炼丹成功，更强大的，有了火眼金睛技能的孙悟空出世\n",
    "    return 炼丹炉\n",
    "\n",
    "@吃嘛枣药丸(\"六味地黄丸\")\n",
    "def 孙悟空():\n",
    "  print('吃桃子')"
   ]
  },
  {
   "cell_type": "markdown",
   "metadata": {},
   "source": [
    "* “炼丹炉”就是一个装饰器\n",
    "\n",
    "* 而“吃嘛枣药丸”的作用在于能够给装饰器增加参数。当然了，这个参数得用在装饰器上。"
   ]
  },
  {
   "cell_type": "code",
   "execution_count": 19,
   "metadata": {},
   "outputs": [
    {
     "name": "stdout",
     "output_type": "stream",
     "text": [
      "有火眼金睛了 六味地黄丸\n",
      "吃桃子\n"
     ]
    }
   ],
   "source": [
    "孙悟空()"
   ]
  },
  {
   "cell_type": "code",
   "execution_count": 4,
   "metadata": {},
   "outputs": [
    {
     "name": "stdout",
     "output_type": "stream",
     "text": [
      "file\n"
     ]
    }
   ],
   "source": [
    "from file import Person\n",
    "p = Person()\n",
    "p.getAge()"
   ]
  },
  {
   "cell_type": "code",
   "execution_count": 5,
   "metadata": {},
   "outputs": [
    {
     "name": "stdout",
     "output_type": "stream",
     "text": [
      "__main__\n"
     ]
    }
   ],
   "source": [
    "class Person1:\n",
    "    def getAge(self):\n",
    "        print (__name__)\n",
    "p1 = Person1()\n",
    "p1.getAge()"
   ]
  }
 ],
 "metadata": {
  "kernelspec": {
   "display_name": "Python 3",
   "language": "python",
   "name": "python3"
  },
  "language_info": {
   "codemirror_mode": {
    "name": "ipython",
    "version": 3
   },
   "file_extension": ".py",
   "mimetype": "text/x-python",
   "name": "python",
   "nbconvert_exporter": "python",
   "pygments_lexer": "ipython3",
   "version": "3.6.8"
  }
 },
 "nbformat": 4,
 "nbformat_minor": 2
}
