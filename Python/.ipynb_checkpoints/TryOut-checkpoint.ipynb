{
 "cells": [
  {
   "cell_type": "code",
   "execution_count": null,
   "metadata": {},
   "outputs": [],
   "source": [
    "class Solution(object):\n",
    "    def helper(low, high):\n",
    "        mid = (low + high)\n",
    "        \n",
    "        if float(mid) <= float(high)/mid and float(mid + 1) > float(high) / (mid + 1):\n",
    "            return mid\n",
    "        elif float(mid) > float(high)/mid: \n",
    "            return helper(low, mid)\n",
    "        elif float(mid + 1) <= float(high) / (mid + 1):\n",
    "            return helper(mid + 1, high)\n",
    "        else:\n",
    "            return 0\n",
    "        \n",
    "    def mySqrt(self, x):\n",
    "        \"\"\"\n",
    "        :type x: int\n",
    "        :rtype: int\n",
    "        \"\"\"\n",
    "        if x <= 1:\n",
    "            return x\n",
    "        else:\n",
    "            return self.helper(1, x)\n",
    "        "
   ]
  },
  {
   "cell_type": "markdown",
   "metadata": {},
   "source": [
    "## 逻辑运算符"
   ]
  },
  {
   "cell_type": "code",
   "execution_count": 14,
   "metadata": {},
   "outputs": [
    {
     "data": {
      "text/plain": [
       "False"
      ]
     },
     "execution_count": 14,
     "metadata": {},
     "output_type": "execute_result"
    }
   ],
   "source": [
    "a = 1\n",
    "b = \"callable\"\n",
    "not a"
   ]
  },
  {
   "cell_type": "markdown",
   "metadata": {},
   "source": [
    "## 装饰器"
   ]
  },
  {
   "cell_type": "code",
   "execution_count": 18,
   "metadata": {},
   "outputs": [],
   "source": [
    "def 孙悟空():\n",
    "  print('吃桃子')\n",
    "# 孙悟空()\n",
    "\n",
    "def 吃嘛枣药丸(abc):\n",
    "    def 炼丹炉(func): # func就是‘孙悟空’这个函数\n",
    "      def 变身(*args, **kwargs): #*args, **kwargs就是‘孙悟空’的参数列表，这里的‘孙悟空’函数没有传参数，我们写上也不影响，建议都写上  \n",
    "          print(f'有火眼金睛了 {abc}') # 加特效，增加新功能，比如孙悟空的进了炼丹炉后，有了火眼金睛技能  \n",
    "          return func(*args, **kwargs) #保留原来的功能，原来孙悟空的技能，如吃桃子\n",
    "      return 变身 # 炼丹成功，更强大的，有了火眼金睛技能的孙悟空出世\n",
    "    return 炼丹炉\n",
    "\n",
    "@吃嘛枣药丸(\"六味地黄丸\")\n",
    "def 孙悟空():\n",
    "  print('吃桃子')"
   ]
  },
  {
   "cell_type": "markdown",
   "metadata": {},
   "source": [
    "* “炼丹炉”就是一个装饰器\n",
    "\n",
    "* 而“吃嘛枣药丸”的作用在于能够给装饰器增加参数。当然了，这个参数得用在装饰器上。"
   ]
  },
  {
   "cell_type": "code",
   "execution_count": 19,
   "metadata": {},
   "outputs": [
    {
     "name": "stdout",
     "output_type": "stream",
     "text": [
      "有火眼金睛了 六味地黄丸\n",
      "吃桃子\n"
     ]
    }
   ],
   "source": [
    "孙悟空()"
   ]
  },
  {
   "cell_type": "code",
   "execution_count": 4,
   "metadata": {},
   "outputs": [
    {
     "name": "stdout",
     "output_type": "stream",
     "text": [
      "file\n"
     ]
    }
   ],
   "source": [
    "from file import Person\n",
    "p = Person()\n",
    "p.getAge()"
   ]
  },
  {
   "cell_type": "code",
   "execution_count": 5,
   "metadata": {},
   "outputs": [
    {
     "name": "stdout",
     "output_type": "stream",
     "text": [
      "__main__\n"
     ]
    }
   ],
   "source": [
    "class Person1:\n",
    "    def getAge(self):\n",
    "        print (__name__)\n",
    "p1 = Person1()\n",
    "p1.getAge()"
   ]
  }
 ],
 "metadata": {
  "kernelspec": {
   "display_name": "Python 3",
   "language": "python",
   "name": "python3"
  },
  "language_info": {
   "codemirror_mode": {
    "name": "ipython",
    "version": 3
   },
   "file_extension": ".py",
   "mimetype": "text/x-python",
   "name": "python",
   "nbconvert_exporter": "python",
   "pygments_lexer": "ipython3",
   "version": "3.6.5"
  }
 },
 "nbformat": 4,
 "nbformat_minor": 2
}
